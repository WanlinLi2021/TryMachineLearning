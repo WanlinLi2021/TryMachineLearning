{
 "cells": [
  {
   "cell_type": "markdown",
   "metadata": {},
   "source": [
    "## Preamble and Datasets"
   ]
  },
  {
   "cell_type": "markdown",
   "metadata": {},
   "source": [
    "### step1: Based on the results from the features selection in 006"
   ]
  },
  {
   "cell_type": "code",
   "execution_count": 1,
   "metadata": {},
   "outputs": [],
   "source": [
    "%matplotlib notebook\n",
    "import numpy as np # linear algebra\n",
    "import pandas as pd # data processing\n",
    "import seaborn as sns  # data visualization library  \n",
    "import matplotlib.pyplot as plt"
   ]
  },
  {
   "cell_type": "code",
   "execution_count": 2,
   "metadata": {},
   "outputs": [],
   "source": [
    "X_train006 = pd.read_csv('X_train_Selection006.csv')"
   ]
  },
  {
   "cell_type": "code",
   "execution_count": 4,
   "metadata": {},
   "outputs": [
    {
     "data": {
      "text/plain": [
       "['BCUT_PEOE_1',\n",
       " 'h_logS',\n",
       " 'npr2',\n",
       " 'PEOE_RPC.',\n",
       " 'PEOE_VSA.1.1',\n",
       " 'SMR_VSA3',\n",
       " 'std_dim3',\n",
       " 'vsurf_DD23',\n",
       " 'vsurf_DW23',\n",
       " 'vsurf_R']"
      ]
     },
     "execution_count": 4,
     "metadata": {},
     "output_type": "execute_result"
    }
   ],
   "source": [
    "FeatureSelectedFrom006 =list(X_train006.columns)[1:]\n",
    "FeatureSelectedFrom006"
   ]
  },
  {
   "cell_type": "markdown",
   "metadata": {},
   "source": [
    "## Step 2 : Adding the variables for a better model performance "
   ]
  },
  {
   "cell_type": "markdown",
   "metadata": {},
   "source": [
    "### Univariate feature selection"
   ]
  },
  {
   "cell_type": "markdown",
   "metadata": {},
   "source": [
    "Univariate feature selection works by selecting the best features based on univariate statistical tests. It can be seen as a preprocessing step to an estimator."
   ]
  },
  {
   "cell_type": "markdown",
   "metadata": {},
   "source": [
    "sklearn.feature_selection.SelectKBest: Select features according to the k highest scores.\n",
    "https://scikit-learn.org/stable/modules/generated/sklearn.feature_selection.SelectKBest.html"
   ]
  },
  {
   "cell_type": "markdown",
   "metadata": {},
   "source": [
    "For regression: f_regression, mutual_info_regression\n"
   ]
  },
  {
   "cell_type": "markdown",
   "metadata": {},
   "source": [
    "Feature selection with sparse data\n",
    "\n",
    "If you use sparse data (i.e. data represented as sparse matrices),:\n",
    "     mutual_info_regression will deal with the data without making it dense.\n",
    "https://scikit-learn.org/stable/modules/generated/sklearn.feature_selection.mutual_info_regression.html#sklearn.feature_selection.mutual_info_regression"
   ]
  },
  {
   "cell_type": "code",
   "execution_count": 5,
   "metadata": {},
   "outputs": [],
   "source": [
    "from sklearn.feature_selection import SelectKBest\n",
    "from sklearn.feature_selection import mutual_info_regression\n",
    "from sklearn.feature_selection import f_regression"
   ]
  },
  {
   "cell_type": "code",
   "execution_count": 6,
   "metadata": {},
   "outputs": [
    {
     "data": {
      "text/html": [
       "<div>\n",
       "<style scoped>\n",
       "    .dataframe tbody tr th:only-of-type {\n",
       "        vertical-align: middle;\n",
       "    }\n",
       "\n",
       "    .dataframe tbody tr th {\n",
       "        vertical-align: top;\n",
       "    }\n",
       "\n",
       "    .dataframe thead th {\n",
       "        text-align: right;\n",
       "    }\n",
       "</style>\n",
       "<table border=\"1\" class=\"dataframe\">\n",
       "  <thead>\n",
       "    <tr style=\"text-align: right;\">\n",
       "      <th></th>\n",
       "      <th>apol</th>\n",
       "      <th>ASA</th>\n",
       "      <th>ASA+</th>\n",
       "      <th>ASA-</th>\n",
       "      <th>ASA_H</th>\n",
       "      <th>ASA_P</th>\n",
       "      <th>a_acc</th>\n",
       "      <th>a_acid</th>\n",
       "      <th>a_aro</th>\n",
       "      <th>a_base</th>\n",
       "      <th>...</th>\n",
       "      <th>vsurf_Wp5</th>\n",
       "      <th>vsurf_Wp6</th>\n",
       "      <th>vsurf_Wp7</th>\n",
       "      <th>vsurf_Wp8</th>\n",
       "      <th>Weight</th>\n",
       "      <th>weinerPath</th>\n",
       "      <th>weinerPol</th>\n",
       "      <th>zagreb</th>\n",
       "      <th>Ratios Ln</th>\n",
       "      <th>Ratios</th>\n",
       "    </tr>\n",
       "  </thead>\n",
       "  <tbody>\n",
       "    <tr>\n",
       "      <th>0</th>\n",
       "      <td>113.767230</td>\n",
       "      <td>1000.23600</td>\n",
       "      <td>683.490170</td>\n",
       "      <td>315.32425</td>\n",
       "      <td>755.79987</td>\n",
       "      <td>244.43610</td>\n",
       "      <td>7</td>\n",
       "      <td>0</td>\n",
       "      <td>18</td>\n",
       "      <td>0</td>\n",
       "      <td>...</td>\n",
       "      <td>25.0</td>\n",
       "      <td>7.875</td>\n",
       "      <td>0.875</td>\n",
       "      <td>0</td>\n",
       "      <td>704.86896</td>\n",
       "      <td>10532</td>\n",
       "      <td>77</td>\n",
       "      <td>254</td>\n",
       "      <td>-2.04</td>\n",
       "      <td>0.130029</td>\n",
       "    </tr>\n",
       "    <tr>\n",
       "      <th>1</th>\n",
       "      <td>38.380379</td>\n",
       "      <td>511.26691</td>\n",
       "      <td>87.832047</td>\n",
       "      <td>422.87335</td>\n",
       "      <td>511.26691</td>\n",
       "      <td>0.00000</td>\n",
       "      <td>0</td>\n",
       "      <td>0</td>\n",
       "      <td>12</td>\n",
       "      <td>0</td>\n",
       "      <td>...</td>\n",
       "      <td>0.0</td>\n",
       "      <td>0.000</td>\n",
       "      <td>0.000</td>\n",
       "      <td>0</td>\n",
       "      <td>395.32700</td>\n",
       "      <td>650</td>\n",
       "      <td>35</td>\n",
       "      <td>100</td>\n",
       "      <td>-1.90</td>\n",
       "      <td>0.149569</td>\n",
       "    </tr>\n",
       "    <tr>\n",
       "      <th>2</th>\n",
       "      <td>38.509171</td>\n",
       "      <td>467.70377</td>\n",
       "      <td>46.270092</td>\n",
       "      <td>421.43369</td>\n",
       "      <td>164.71072</td>\n",
       "      <td>302.99304</td>\n",
       "      <td>1</td>\n",
       "      <td>0</td>\n",
       "      <td>0</td>\n",
       "      <td>0</td>\n",
       "      <td>...</td>\n",
       "      <td>0.0</td>\n",
       "      <td>0.000</td>\n",
       "      <td>0.000</td>\n",
       "      <td>0</td>\n",
       "      <td>423.76498</td>\n",
       "      <td>523</td>\n",
       "      <td>48</td>\n",
       "      <td>130</td>\n",
       "      <td>-1.86</td>\n",
       "      <td>0.155673</td>\n",
       "    </tr>\n",
       "    <tr>\n",
       "      <th>3</th>\n",
       "      <td>35.353966</td>\n",
       "      <td>476.31808</td>\n",
       "      <td>115.047930</td>\n",
       "      <td>359.88968</td>\n",
       "      <td>476.31808</td>\n",
       "      <td>0.00000</td>\n",
       "      <td>0</td>\n",
       "      <td>0</td>\n",
       "      <td>12</td>\n",
       "      <td>0</td>\n",
       "      <td>...</td>\n",
       "      <td>0.0</td>\n",
       "      <td>0.000</td>\n",
       "      <td>0.000</td>\n",
       "      <td>0</td>\n",
       "      <td>326.43698</td>\n",
       "      <td>502</td>\n",
       "      <td>28</td>\n",
       "      <td>88</td>\n",
       "      <td>-1.83</td>\n",
       "      <td>0.160414</td>\n",
       "    </tr>\n",
       "    <tr>\n",
       "      <th>4</th>\n",
       "      <td>42.889172</td>\n",
       "      <td>595.07001</td>\n",
       "      <td>66.461929</td>\n",
       "      <td>528.60809</td>\n",
       "      <td>595.07001</td>\n",
       "      <td>0.00000</td>\n",
       "      <td>0</td>\n",
       "      <td>0</td>\n",
       "      <td>12</td>\n",
       "      <td>0</td>\n",
       "      <td>...</td>\n",
       "      <td>0.0</td>\n",
       "      <td>0.000</td>\n",
       "      <td>0.000</td>\n",
       "      <td>0</td>\n",
       "      <td>643.58698</td>\n",
       "      <td>708</td>\n",
       "      <td>30</td>\n",
       "      <td>98</td>\n",
       "      <td>-1.70</td>\n",
       "      <td>0.182684</td>\n",
       "    </tr>\n",
       "  </tbody>\n",
       "</table>\n",
       "<p>5 rows × 312 columns</p>\n",
       "</div>"
      ],
      "text/plain": [
       "         apol         ASA        ASA+       ASA-      ASA_H      ASA_P  a_acc  \\\n",
       "0  113.767230  1000.23600  683.490170  315.32425  755.79987  244.43610      7   \n",
       "1   38.380379   511.26691   87.832047  422.87335  511.26691    0.00000      0   \n",
       "2   38.509171   467.70377   46.270092  421.43369  164.71072  302.99304      1   \n",
       "3   35.353966   476.31808  115.047930  359.88968  476.31808    0.00000      0   \n",
       "4   42.889172   595.07001   66.461929  528.60809  595.07001    0.00000      0   \n",
       "\n",
       "   a_acid  a_aro  a_base  ...  vsurf_Wp5  vsurf_Wp6  vsurf_Wp7  vsurf_Wp8  \\\n",
       "0       0     18       0  ...       25.0      7.875      0.875          0   \n",
       "1       0     12       0  ...        0.0      0.000      0.000          0   \n",
       "2       0      0       0  ...        0.0      0.000      0.000          0   \n",
       "3       0     12       0  ...        0.0      0.000      0.000          0   \n",
       "4       0     12       0  ...        0.0      0.000      0.000          0   \n",
       "\n",
       "      Weight  weinerPath  weinerPol  zagreb  Ratios Ln    Ratios  \n",
       "0  704.86896       10532         77     254      -2.04  0.130029  \n",
       "1  395.32700         650         35     100      -1.90  0.149569  \n",
       "2  423.76498         523         48     130      -1.86  0.155673  \n",
       "3  326.43698         502         28      88      -1.83  0.160414  \n",
       "4  643.58698         708         30      98      -1.70  0.182684  \n",
       "\n",
       "[5 rows x 312 columns]"
      ]
     },
     "execution_count": 6,
     "metadata": {},
     "output_type": "execute_result"
    }
   ],
   "source": [
    "data = pd.read_csv(\"Last-310Descriptors_all_diversifier_3.csv\",sep=\";\")\n",
    "data.head()"
   ]
  },
  {
   "cell_type": "code",
   "execution_count": 7,
   "metadata": {},
   "outputs": [
    {
     "data": {
      "text/plain": [
       "['Ratios Ln', 'Ratios']"
      ]
     },
     "execution_count": 7,
     "metadata": {},
     "output_type": "execute_result"
    }
   ],
   "source": [
    "list(data.columns)[-2:]"
   ]
  },
  {
   "cell_type": "code",
   "execution_count": 8,
   "metadata": {},
   "outputs": [
    {
     "data": {
      "text/plain": [
       "0   -2.04\n",
       "1   -1.90\n",
       "2   -1.86\n",
       "3   -1.83\n",
       "4   -1.70\n",
       "Name: Ratios Ln, dtype: float64"
      ]
     },
     "execution_count": 8,
     "metadata": {},
     "output_type": "execute_result"
    }
   ],
   "source": [
    "y = data['Ratios Ln']\n",
    "y.head()"
   ]
  },
  {
   "cell_type": "code",
   "execution_count": 9,
   "metadata": {},
   "outputs": [
    {
     "data": {
      "text/html": [
       "<div>\n",
       "<style scoped>\n",
       "    .dataframe tbody tr th:only-of-type {\n",
       "        vertical-align: middle;\n",
       "    }\n",
       "\n",
       "    .dataframe tbody tr th {\n",
       "        vertical-align: top;\n",
       "    }\n",
       "\n",
       "    .dataframe thead th {\n",
       "        text-align: right;\n",
       "    }\n",
       "</style>\n",
       "<table border=\"1\" class=\"dataframe\">\n",
       "  <thead>\n",
       "    <tr style=\"text-align: right;\">\n",
       "      <th></th>\n",
       "      <th>apol</th>\n",
       "      <th>ASA</th>\n",
       "      <th>ASA+</th>\n",
       "      <th>ASA-</th>\n",
       "      <th>ASA_H</th>\n",
       "      <th>ASA_P</th>\n",
       "      <th>a_acc</th>\n",
       "      <th>a_acid</th>\n",
       "      <th>a_aro</th>\n",
       "      <th>a_base</th>\n",
       "      <th>...</th>\n",
       "      <th>vsurf_Wp3</th>\n",
       "      <th>vsurf_Wp4</th>\n",
       "      <th>vsurf_Wp5</th>\n",
       "      <th>vsurf_Wp6</th>\n",
       "      <th>vsurf_Wp7</th>\n",
       "      <th>vsurf_Wp8</th>\n",
       "      <th>Weight</th>\n",
       "      <th>weinerPath</th>\n",
       "      <th>weinerPol</th>\n",
       "      <th>zagreb</th>\n",
       "    </tr>\n",
       "  </thead>\n",
       "  <tbody>\n",
       "    <tr>\n",
       "      <th>0</th>\n",
       "      <td>113.767230</td>\n",
       "      <td>1000.23600</td>\n",
       "      <td>683.490170</td>\n",
       "      <td>315.32425</td>\n",
       "      <td>755.79987</td>\n",
       "      <td>244.43610</td>\n",
       "      <td>7</td>\n",
       "      <td>0</td>\n",
       "      <td>18</td>\n",
       "      <td>0</td>\n",
       "      <td>...</td>\n",
       "      <td>191.625</td>\n",
       "      <td>58.000</td>\n",
       "      <td>25.0</td>\n",
       "      <td>7.875</td>\n",
       "      <td>0.875</td>\n",
       "      <td>0</td>\n",
       "      <td>704.86896</td>\n",
       "      <td>10532</td>\n",
       "      <td>77</td>\n",
       "      <td>254</td>\n",
       "    </tr>\n",
       "    <tr>\n",
       "      <th>1</th>\n",
       "      <td>38.380379</td>\n",
       "      <td>511.26691</td>\n",
       "      <td>87.832047</td>\n",
       "      <td>422.87335</td>\n",
       "      <td>511.26691</td>\n",
       "      <td>0.00000</td>\n",
       "      <td>0</td>\n",
       "      <td>0</td>\n",
       "      <td>12</td>\n",
       "      <td>0</td>\n",
       "      <td>...</td>\n",
       "      <td>53.750</td>\n",
       "      <td>0.000</td>\n",
       "      <td>0.0</td>\n",
       "      <td>0.000</td>\n",
       "      <td>0.000</td>\n",
       "      <td>0</td>\n",
       "      <td>395.32700</td>\n",
       "      <td>650</td>\n",
       "      <td>35</td>\n",
       "      <td>100</td>\n",
       "    </tr>\n",
       "    <tr>\n",
       "      <th>2</th>\n",
       "      <td>38.509171</td>\n",
       "      <td>467.70377</td>\n",
       "      <td>46.270092</td>\n",
       "      <td>421.43369</td>\n",
       "      <td>164.71072</td>\n",
       "      <td>302.99304</td>\n",
       "      <td>1</td>\n",
       "      <td>0</td>\n",
       "      <td>0</td>\n",
       "      <td>0</td>\n",
       "      <td>...</td>\n",
       "      <td>19.000</td>\n",
       "      <td>0.000</td>\n",
       "      <td>0.0</td>\n",
       "      <td>0.000</td>\n",
       "      <td>0.000</td>\n",
       "      <td>0</td>\n",
       "      <td>423.76498</td>\n",
       "      <td>523</td>\n",
       "      <td>48</td>\n",
       "      <td>130</td>\n",
       "    </tr>\n",
       "    <tr>\n",
       "      <th>3</th>\n",
       "      <td>35.353966</td>\n",
       "      <td>476.31808</td>\n",
       "      <td>115.047930</td>\n",
       "      <td>359.88968</td>\n",
       "      <td>476.31808</td>\n",
       "      <td>0.00000</td>\n",
       "      <td>0</td>\n",
       "      <td>0</td>\n",
       "      <td>12</td>\n",
       "      <td>0</td>\n",
       "      <td>...</td>\n",
       "      <td>41.375</td>\n",
       "      <td>0.000</td>\n",
       "      <td>0.0</td>\n",
       "      <td>0.000</td>\n",
       "      <td>0.000</td>\n",
       "      <td>0</td>\n",
       "      <td>326.43698</td>\n",
       "      <td>502</td>\n",
       "      <td>28</td>\n",
       "      <td>88</td>\n",
       "    </tr>\n",
       "    <tr>\n",
       "      <th>4</th>\n",
       "      <td>42.889172</td>\n",
       "      <td>595.07001</td>\n",
       "      <td>66.461929</td>\n",
       "      <td>528.60809</td>\n",
       "      <td>595.07001</td>\n",
       "      <td>0.00000</td>\n",
       "      <td>0</td>\n",
       "      <td>0</td>\n",
       "      <td>12</td>\n",
       "      <td>0</td>\n",
       "      <td>...</td>\n",
       "      <td>88.250</td>\n",
       "      <td>0.375</td>\n",
       "      <td>0.0</td>\n",
       "      <td>0.000</td>\n",
       "      <td>0.000</td>\n",
       "      <td>0</td>\n",
       "      <td>643.58698</td>\n",
       "      <td>708</td>\n",
       "      <td>30</td>\n",
       "      <td>98</td>\n",
       "    </tr>\n",
       "  </tbody>\n",
       "</table>\n",
       "<p>5 rows × 310 columns</p>\n",
       "</div>"
      ],
      "text/plain": [
       "         apol         ASA        ASA+       ASA-      ASA_H      ASA_P  a_acc  \\\n",
       "0  113.767230  1000.23600  683.490170  315.32425  755.79987  244.43610      7   \n",
       "1   38.380379   511.26691   87.832047  422.87335  511.26691    0.00000      0   \n",
       "2   38.509171   467.70377   46.270092  421.43369  164.71072  302.99304      1   \n",
       "3   35.353966   476.31808  115.047930  359.88968  476.31808    0.00000      0   \n",
       "4   42.889172   595.07001   66.461929  528.60809  595.07001    0.00000      0   \n",
       "\n",
       "   a_acid  a_aro  a_base  ...  vsurf_Wp3  vsurf_Wp4  vsurf_Wp5  vsurf_Wp6  \\\n",
       "0       0     18       0  ...    191.625     58.000       25.0      7.875   \n",
       "1       0     12       0  ...     53.750      0.000        0.0      0.000   \n",
       "2       0      0       0  ...     19.000      0.000        0.0      0.000   \n",
       "3       0     12       0  ...     41.375      0.000        0.0      0.000   \n",
       "4       0     12       0  ...     88.250      0.375        0.0      0.000   \n",
       "\n",
       "   vsurf_Wp7  vsurf_Wp8     Weight  weinerPath  weinerPol  zagreb  \n",
       "0      0.875          0  704.86896       10532         77     254  \n",
       "1      0.000          0  395.32700         650         35     100  \n",
       "2      0.000          0  423.76498         523         48     130  \n",
       "3      0.000          0  326.43698         502         28      88  \n",
       "4      0.000          0  643.58698         708         30      98  \n",
       "\n",
       "[5 rows x 310 columns]"
      ]
     },
     "execution_count": 9,
     "metadata": {},
     "output_type": "execute_result"
    }
   ],
   "source": [
    "x = data.drop(['Ratios Ln', 'Ratios'], axis =1)\n",
    "x.head()"
   ]
  },
  {
   "cell_type": "code",
   "execution_count": 30,
   "metadata": {},
   "outputs": [],
   "source": []
  },
  {
   "cell_type": "code",
   "execution_count": 24,
   "metadata": {},
   "outputs": [],
   "source": [
    "#selecting the best 100 features based on univariate statistical tests.\n",
    "#Using \"mutual_info_regression\" as the scoring function\n",
    "\n",
    "bestSelect = SelectKBest(mutual_info_regression, k=6)\n",
    "selector = bestSelect.fit(x, y)"
   ]
  },
  {
   "cell_type": "code",
   "execution_count": 25,
   "metadata": {},
   "outputs": [],
   "source": [
    "feature_select = selector.get_support(indices=True)"
   ]
  },
  {
   "cell_type": "code",
   "execution_count": 26,
   "metadata": {},
   "outputs": [
    {
     "data": {
      "text/html": [
       "<div>\n",
       "<style scoped>\n",
       "    .dataframe tbody tr th:only-of-type {\n",
       "        vertical-align: middle;\n",
       "    }\n",
       "\n",
       "    .dataframe tbody tr th {\n",
       "        vertical-align: top;\n",
       "    }\n",
       "\n",
       "    .dataframe thead th {\n",
       "        text-align: right;\n",
       "    }\n",
       "</style>\n",
       "<table border=\"1\" class=\"dataframe\">\n",
       "  <thead>\n",
       "    <tr style=\"text-align: right;\">\n",
       "      <th></th>\n",
       "      <th>a_ICM</th>\n",
       "      <th>h_ema</th>\n",
       "      <th>PEOE_VSA_FNEG</th>\n",
       "      <th>PEOE_VSA_FPOS</th>\n",
       "      <th>vsurf_D5</th>\n",
       "      <th>vsurf_D6</th>\n",
       "    </tr>\n",
       "  </thead>\n",
       "  <tbody>\n",
       "    <tr>\n",
       "      <th>0</th>\n",
       "      <td>1.531109</td>\n",
       "      <td>14.044005</td>\n",
       "      <td>0.450831</td>\n",
       "      <td>0.549169</td>\n",
       "      <td>426.000</td>\n",
       "      <td>343.500</td>\n",
       "    </tr>\n",
       "    <tr>\n",
       "      <th>1</th>\n",
       "      <td>1.394617</td>\n",
       "      <td>1.789496</td>\n",
       "      <td>0.833095</td>\n",
       "      <td>0.166905</td>\n",
       "      <td>374.500</td>\n",
       "      <td>335.500</td>\n",
       "    </tr>\n",
       "    <tr>\n",
       "      <th>2</th>\n",
       "      <td>1.687941</td>\n",
       "      <td>3.573645</td>\n",
       "      <td>0.882079</td>\n",
       "      <td>0.117921</td>\n",
       "      <td>292.125</td>\n",
       "      <td>262.375</td>\n",
       "    </tr>\n",
       "    <tr>\n",
       "      <th>3</th>\n",
       "      <td>1.448576</td>\n",
       "      <td>1.259619</td>\n",
       "      <td>0.820857</td>\n",
       "      <td>0.179143</td>\n",
       "      <td>343.875</td>\n",
       "      <td>310.250</td>\n",
       "    </tr>\n",
       "    <tr>\n",
       "      <th>4</th>\n",
       "      <td>1.630983</td>\n",
       "      <td>2.461521</td>\n",
       "      <td>0.868358</td>\n",
       "      <td>0.131642</td>\n",
       "      <td>421.500</td>\n",
       "      <td>376.250</td>\n",
       "    </tr>\n",
       "  </tbody>\n",
       "</table>\n",
       "</div>"
      ],
      "text/plain": [
       "      a_ICM      h_ema  PEOE_VSA_FNEG  PEOE_VSA_FPOS  vsurf_D5  vsurf_D6\n",
       "0  1.531109  14.044005       0.450831       0.549169   426.000   343.500\n",
       "1  1.394617   1.789496       0.833095       0.166905   374.500   335.500\n",
       "2  1.687941   3.573645       0.882079       0.117921   292.125   262.375\n",
       "3  1.448576   1.259619       0.820857       0.179143   343.875   310.250\n",
       "4  1.630983   2.461521       0.868358       0.131642   421.500   376.250"
      ]
     },
     "execution_count": 26,
     "metadata": {},
     "output_type": "execute_result"
    }
   ],
   "source": [
    "X_bestkSelect = x[x.columns[feature_select]]\n",
    "X_bestkSelect.head()"
   ]
  },
  {
   "cell_type": "code",
   "execution_count": 28,
   "metadata": {},
   "outputs": [
    {
     "data": {
      "text/html": [
       "<div>\n",
       "<style scoped>\n",
       "    .dataframe tbody tr th:only-of-type {\n",
       "        vertical-align: middle;\n",
       "    }\n",
       "\n",
       "    .dataframe tbody tr th {\n",
       "        vertical-align: top;\n",
       "    }\n",
       "\n",
       "    .dataframe thead th {\n",
       "        text-align: right;\n",
       "    }\n",
       "</style>\n",
       "<table border=\"1\" class=\"dataframe\">\n",
       "  <thead>\n",
       "    <tr style=\"text-align: right;\">\n",
       "      <th></th>\n",
       "      <th>score</th>\n",
       "    </tr>\n",
       "  </thead>\n",
       "  <tbody>\n",
       "    <tr>\n",
       "      <th>vsurf_D6</th>\n",
       "      <td>0.405662</td>\n",
       "    </tr>\n",
       "    <tr>\n",
       "      <th>a_ICM</th>\n",
       "      <td>0.352799</td>\n",
       "    </tr>\n",
       "    <tr>\n",
       "      <th>PEOE_VSA_FNEG</th>\n",
       "      <td>0.340051</td>\n",
       "    </tr>\n",
       "    <tr>\n",
       "      <th>PEOE_VSA_FPOS</th>\n",
       "      <td>0.339794</td>\n",
       "    </tr>\n",
       "    <tr>\n",
       "      <th>vsurf_D5</th>\n",
       "      <td>0.336489</td>\n",
       "    </tr>\n",
       "    <tr>\n",
       "      <th>h_ema</th>\n",
       "      <td>0.329062</td>\n",
       "    </tr>\n",
       "  </tbody>\n",
       "</table>\n",
       "</div>"
      ],
      "text/plain": [
       "                  score\n",
       "vsurf_D6       0.405662\n",
       "a_ICM          0.352799\n",
       "PEOE_VSA_FNEG  0.340051\n",
       "PEOE_VSA_FPOS  0.339794\n",
       "vsurf_D5       0.336489\n",
       "h_ema          0.329062"
      ]
     },
     "execution_count": 28,
     "metadata": {},
     "output_type": "execute_result"
    }
   ],
   "source": [
    "score_total = pd.DataFrame({\"score\":list(selector.scores_)}, x.columns)\n",
    "score_total = score_total.sort_values(by=['score'],ascending = False)\n",
    "bestSelect_scores = score_total.sort_values(by=['score'],ascending = False).iloc[:6,:]\n",
    "bestSelect_scores"
   ]
  },
  {
   "cell_type": "code",
   "execution_count": 31,
   "metadata": {},
   "outputs": [
    {
     "data": {
      "image/png": "[encoded data removed]",
      "text/plain": [
       "<Figure size 1152x288 with 1 Axes>"
      ]
     },
     "metadata": {
      "needs_background": "light"
     },
     "output_type": "display_data"
    }
   ],
   "source": [
    "%matplotlib inline\n",
    "plt.figure(figsize=(16,4))\n",
    "plt.barh(list(bestSelect_scores.index), list(bestSelect_scores[\"score\"]), color='b')\n",
    "plt.show()"
   ]
  },
  {
   "cell_type": "code",
   "execution_count": 36,
   "metadata": {},
   "outputs": [
    {
     "data": {
      "text/plain": [
       "['vsurf_D6', 'a_ICM', 'PEOE_VSA_FNEG', 'PEOE_VSA_FPOS', 'vsurf_D5', 'h_ema']"
      ]
     },
     "execution_count": 36,
     "metadata": {},
     "output_type": "execute_result"
    }
   ],
   "source": [
    "feature_adding = list(bestSelect_scores.index)\n",
    "feature_adding "
   ]
  },
  {
   "cell_type": "code",
   "execution_count": 74,
   "metadata": {},
   "outputs": [
    {
     "data": {
      "text/html": [
       "<div>\n",
       "<style scoped>\n",
       "    .dataframe tbody tr th:only-of-type {\n",
       "        vertical-align: middle;\n",
       "    }\n",
       "\n",
       "    .dataframe tbody tr th {\n",
       "        vertical-align: top;\n",
       "    }\n",
       "\n",
       "    .dataframe thead th {\n",
       "        text-align: right;\n",
       "    }\n",
       "</style>\n",
       "<table border=\"1\" class=\"dataframe\">\n",
       "  <thead>\n",
       "    <tr style=\"text-align: right;\">\n",
       "      <th></th>\n",
       "      <th>vsurf_D6</th>\n",
       "      <th>a_ICM</th>\n",
       "      <th>PEOE_VSA_FNEG</th>\n",
       "      <th>PEOE_VSA_FPOS</th>\n",
       "      <th>vsurf_D5</th>\n",
       "      <th>h_ema</th>\n",
       "    </tr>\n",
       "  </thead>\n",
       "  <tbody>\n",
       "    <tr>\n",
       "      <th>0</th>\n",
       "      <td>343.500</td>\n",
       "      <td>1.531109</td>\n",
       "      <td>0.450831</td>\n",
       "      <td>0.549169</td>\n",
       "      <td>426.000</td>\n",
       "      <td>14.044005</td>\n",
       "    </tr>\n",
       "    <tr>\n",
       "      <th>1</th>\n",
       "      <td>335.500</td>\n",
       "      <td>1.394617</td>\n",
       "      <td>0.833095</td>\n",
       "      <td>0.166905</td>\n",
       "      <td>374.500</td>\n",
       "      <td>1.789496</td>\n",
       "    </tr>\n",
       "    <tr>\n",
       "      <th>2</th>\n",
       "      <td>262.375</td>\n",
       "      <td>1.687941</td>\n",
       "      <td>0.882079</td>\n",
       "      <td>0.117921</td>\n",
       "      <td>292.125</td>\n",
       "      <td>3.573645</td>\n",
       "    </tr>\n",
       "    <tr>\n",
       "      <th>3</th>\n",
       "      <td>310.250</td>\n",
       "      <td>1.448576</td>\n",
       "      <td>0.820857</td>\n",
       "      <td>0.179143</td>\n",
       "      <td>343.875</td>\n",
       "      <td>1.259619</td>\n",
       "    </tr>\n",
       "    <tr>\n",
       "      <th>4</th>\n",
       "      <td>376.250</td>\n",
       "      <td>1.630983</td>\n",
       "      <td>0.868358</td>\n",
       "      <td>0.131642</td>\n",
       "      <td>421.500</td>\n",
       "      <td>2.461521</td>\n",
       "    </tr>\n",
       "    <tr>\n",
       "      <th>...</th>\n",
       "      <td>...</td>\n",
       "      <td>...</td>\n",
       "      <td>...</td>\n",
       "      <td>...</td>\n",
       "      <td>...</td>\n",
       "      <td>...</td>\n",
       "    </tr>\n",
       "    <tr>\n",
       "      <th>78</th>\n",
       "      <td>204.000</td>\n",
       "      <td>0.999010</td>\n",
       "      <td>0.682830</td>\n",
       "      <td>0.317170</td>\n",
       "      <td>254.000</td>\n",
       "      <td>0.000000</td>\n",
       "    </tr>\n",
       "    <tr>\n",
       "      <th>79</th>\n",
       "      <td>2.500</td>\n",
       "      <td>1.931753</td>\n",
       "      <td>0.790954</td>\n",
       "      <td>0.209046</td>\n",
       "      <td>7.250</td>\n",
       "      <td>9.153351</td>\n",
       "    </tr>\n",
       "    <tr>\n",
       "      <th>80</th>\n",
       "      <td>217.375</td>\n",
       "      <td>0.991076</td>\n",
       "      <td>0.732395</td>\n",
       "      <td>0.267605</td>\n",
       "      <td>260.375</td>\n",
       "      <td>0.000000</td>\n",
       "    </tr>\n",
       "    <tr>\n",
       "      <th>81</th>\n",
       "      <td>186.125</td>\n",
       "      <td>1.000000</td>\n",
       "      <td>0.700751</td>\n",
       "      <td>0.299249</td>\n",
       "      <td>238.500</td>\n",
       "      <td>0.000000</td>\n",
       "    </tr>\n",
       "    <tr>\n",
       "      <th>82</th>\n",
       "      <td>27.750</td>\n",
       "      <td>2.025139</td>\n",
       "      <td>0.768118</td>\n",
       "      <td>0.231882</td>\n",
       "      <td>45.500</td>\n",
       "      <td>13.115110</td>\n",
       "    </tr>\n",
       "  </tbody>\n",
       "</table>\n",
       "<p>83 rows × 6 columns</p>\n",
       "</div>"
      ],
      "text/plain": [
       "    vsurf_D6     a_ICM  PEOE_VSA_FNEG  PEOE_VSA_FPOS  vsurf_D5      h_ema\n",
       "0    343.500  1.531109       0.450831       0.549169   426.000  14.044005\n",
       "1    335.500  1.394617       0.833095       0.166905   374.500   1.789496\n",
       "2    262.375  1.687941       0.882079       0.117921   292.125   3.573645\n",
       "3    310.250  1.448576       0.820857       0.179143   343.875   1.259619\n",
       "4    376.250  1.630983       0.868358       0.131642   421.500   2.461521\n",
       "..       ...       ...            ...            ...       ...        ...\n",
       "78   204.000  0.999010       0.682830       0.317170   254.000   0.000000\n",
       "79     2.500  1.931753       0.790954       0.209046     7.250   9.153351\n",
       "80   217.375  0.991076       0.732395       0.267605   260.375   0.000000\n",
       "81   186.125  1.000000       0.700751       0.299249   238.500   0.000000\n",
       "82    27.750  2.025139       0.768118       0.231882    45.500  13.115110\n",
       "\n",
       "[83 rows x 6 columns]"
      ]
     },
     "execution_count": 74,
     "metadata": {},
     "output_type": "execute_result"
    }
   ],
   "source": [
    "x_adding = x[feature_adding]\n",
    "x_adding"
   ]
  },
  {
   "cell_type": "code",
   "execution_count": 76,
   "metadata": {},
   "outputs": [],
   "source": [
    "data006 = pd.read_csv(\"fromR_datatidy_with_y.csv\")"
   ]
  },
  {
   "cell_type": "code",
   "execution_count": 78,
   "metadata": {},
   "outputs": [
    {
     "data": {
      "text/html": [
       "<div>\n",
       "<style scoped>\n",
       "    .dataframe tbody tr th:only-of-type {\n",
       "        vertical-align: middle;\n",
       "    }\n",
       "\n",
       "    .dataframe tbody tr th {\n",
       "        vertical-align: top;\n",
       "    }\n",
       "\n",
       "    .dataframe thead th {\n",
       "        text-align: right;\n",
       "    }\n",
       "</style>\n",
       "<table border=\"1\" class=\"dataframe\">\n",
       "  <thead>\n",
       "    <tr style=\"text-align: right;\">\n",
       "      <th></th>\n",
       "      <th>BCUT_PEOE_1</th>\n",
       "      <th>h_logS</th>\n",
       "      <th>npr2</th>\n",
       "      <th>PEOE_RPC.</th>\n",
       "      <th>PEOE_VSA.1.1</th>\n",
       "      <th>SMR_VSA3</th>\n",
       "      <th>std_dim3</th>\n",
       "      <th>vsurf_DD23</th>\n",
       "      <th>vsurf_DW23</th>\n",
       "      <th>vsurf_R</th>\n",
       "    </tr>\n",
       "  </thead>\n",
       "  <tbody>\n",
       "    <tr>\n",
       "      <th>0</th>\n",
       "      <td>-0.509120</td>\n",
       "      <td>-7.301610</td>\n",
       "      <td>0.865424</td>\n",
       "      <td>0.074369</td>\n",
       "      <td>235.035110</td>\n",
       "      <td>24.785706</td>\n",
       "      <td>1.623039</td>\n",
       "      <td>0.500000</td>\n",
       "      <td>0.500000</td>\n",
       "      <td>1.610714</td>\n",
       "    </tr>\n",
       "    <tr>\n",
       "      <th>1</th>\n",
       "      <td>-0.681715</td>\n",
       "      <td>-8.090596</td>\n",
       "      <td>0.919208</td>\n",
       "      <td>0.114688</td>\n",
       "      <td>219.328540</td>\n",
       "      <td>24.504246</td>\n",
       "      <td>1.137902</td>\n",
       "      <td>2.291288</td>\n",
       "      <td>2.291288</td>\n",
       "      <td>1.467669</td>\n",
       "    </tr>\n",
       "    <tr>\n",
       "      <th>2</th>\n",
       "      <td>-0.631661</td>\n",
       "      <td>-6.204517</td>\n",
       "      <td>0.935585</td>\n",
       "      <td>0.164711</td>\n",
       "      <td>147.909730</td>\n",
       "      <td>18.195690</td>\n",
       "      <td>1.228131</td>\n",
       "      <td>1.118034</td>\n",
       "      <td>0.500000</td>\n",
       "      <td>1.521332</td>\n",
       "    </tr>\n",
       "    <tr>\n",
       "      <th>3</th>\n",
       "      <td>-0.667396</td>\n",
       "      <td>-6.721433</td>\n",
       "      <td>0.927113</td>\n",
       "      <td>0.121353</td>\n",
       "      <td>172.419540</td>\n",
       "      <td>17.503033</td>\n",
       "      <td>0.912487</td>\n",
       "      <td>0.500000</td>\n",
       "      <td>0.500000</td>\n",
       "      <td>1.429877</td>\n",
       "    </tr>\n",
       "    <tr>\n",
       "      <th>4</th>\n",
       "      <td>-0.665789</td>\n",
       "      <td>-8.511435</td>\n",
       "      <td>0.827602</td>\n",
       "      <td>0.142438</td>\n",
       "      <td>0.000000</td>\n",
       "      <td>10.486856</td>\n",
       "      <td>0.994331</td>\n",
       "      <td>1.870829</td>\n",
       "      <td>3.240370</td>\n",
       "      <td>1.447858</td>\n",
       "    </tr>\n",
       "    <tr>\n",
       "      <th>...</th>\n",
       "      <td>...</td>\n",
       "      <td>...</td>\n",
       "      <td>...</td>\n",
       "      <td>...</td>\n",
       "      <td>...</td>\n",
       "      <td>...</td>\n",
       "      <td>...</td>\n",
       "      <td>...</td>\n",
       "      <td>...</td>\n",
       "      <td>...</td>\n",
       "    </tr>\n",
       "    <tr>\n",
       "      <th>78</th>\n",
       "      <td>-0.392376</td>\n",
       "      <td>-5.279293</td>\n",
       "      <td>0.713509</td>\n",
       "      <td>0.111591</td>\n",
       "      <td>61.274521</td>\n",
       "      <td>9.556724</td>\n",
       "      <td>0.423491</td>\n",
       "      <td>6.519202</td>\n",
       "      <td>6.519202</td>\n",
       "      <td>1.396001</td>\n",
       "    </tr>\n",
       "    <tr>\n",
       "      <th>79</th>\n",
       "      <td>-0.466827</td>\n",
       "      <td>-4.462789</td>\n",
       "      <td>0.956616</td>\n",
       "      <td>0.153789</td>\n",
       "      <td>0.000000</td>\n",
       "      <td>0.000000</td>\n",
       "      <td>0.863262</td>\n",
       "      <td>6.020797</td>\n",
       "      <td>5.545268</td>\n",
       "      <td>1.329116</td>\n",
       "    </tr>\n",
       "    <tr>\n",
       "      <th>80</th>\n",
       "      <td>-0.586864</td>\n",
       "      <td>-5.812396</td>\n",
       "      <td>0.757929</td>\n",
       "      <td>0.097090</td>\n",
       "      <td>110.294140</td>\n",
       "      <td>3.185575</td>\n",
       "      <td>0.242777</td>\n",
       "      <td>6.519202</td>\n",
       "      <td>6.519202</td>\n",
       "      <td>1.421345</td>\n",
       "    </tr>\n",
       "    <tr>\n",
       "      <th>81</th>\n",
       "      <td>-0.440078</td>\n",
       "      <td>-4.751402</td>\n",
       "      <td>0.827321</td>\n",
       "      <td>0.115845</td>\n",
       "      <td>73.529427</td>\n",
       "      <td>6.371150</td>\n",
       "      <td>0.365896</td>\n",
       "      <td>6.670832</td>\n",
       "      <td>6.670832</td>\n",
       "      <td>1.364408</td>\n",
       "    </tr>\n",
       "    <tr>\n",
       "      <th>82</th>\n",
       "      <td>-0.341436</td>\n",
       "      <td>-6.403943</td>\n",
       "      <td>0.954907</td>\n",
       "      <td>0.154563</td>\n",
       "      <td>0.000000</td>\n",
       "      <td>0.000000</td>\n",
       "      <td>1.002147</td>\n",
       "      <td>0.707107</td>\n",
       "      <td>8.500000</td>\n",
       "      <td>1.423038</td>\n",
       "    </tr>\n",
       "  </tbody>\n",
       "</table>\n",
       "<p>83 rows × 10 columns</p>\n",
       "</div>"
      ],
      "text/plain": [
       "    BCUT_PEOE_1    h_logS      npr2  PEOE_RPC.  PEOE_VSA.1.1   SMR_VSA3  \\\n",
       "0     -0.509120 -7.301610  0.865424   0.074369    235.035110  24.785706   \n",
       "1     -0.681715 -8.090596  0.919208   0.114688    219.328540  24.504246   \n",
       "2     -0.631661 -6.204517  0.935585   0.164711    147.909730  18.195690   \n",
       "3     -0.667396 -6.721433  0.927113   0.121353    172.419540  17.503033   \n",
       "4     -0.665789 -8.511435  0.827602   0.142438      0.000000  10.486856   \n",
       "..          ...       ...       ...        ...           ...        ...   \n",
       "78    -0.392376 -5.279293  0.713509   0.111591     61.274521   9.556724   \n",
       "79    -0.466827 -4.462789  0.956616   0.153789      0.000000   0.000000   \n",
       "80    -0.586864 -5.812396  0.757929   0.097090    110.294140   3.185575   \n",
       "81    -0.440078 -4.751402  0.827321   0.115845     73.529427   6.371150   \n",
       "82    -0.341436 -6.403943  0.954907   0.154563      0.000000   0.000000   \n",
       "\n",
       "    std_dim3  vsurf_DD23  vsurf_DW23   vsurf_R  \n",
       "0   1.623039    0.500000    0.500000  1.610714  \n",
       "1   1.137902    2.291288    2.291288  1.467669  \n",
       "2   1.228131    1.118034    0.500000  1.521332  \n",
       "3   0.912487    0.500000    0.500000  1.429877  \n",
       "4   0.994331    1.870829    3.240370  1.447858  \n",
       "..       ...         ...         ...       ...  \n",
       "78  0.423491    6.519202    6.519202  1.396001  \n",
       "79  0.863262    6.020797    5.545268  1.329116  \n",
       "80  0.242777    6.519202    6.519202  1.421345  \n",
       "81  0.365896    6.670832    6.670832  1.364408  \n",
       "82  1.002147    0.707107    8.500000  1.423038  \n",
       "\n",
       "[83 rows x 10 columns]"
      ]
     },
     "execution_count": 78,
     "metadata": {},
     "output_type": "execute_result"
    }
   ],
   "source": [
    "x_from006 = data006[FeatureSelectedFrom006]\n",
    "x_from006"
   ]
  },
  {
   "cell_type": "code",
   "execution_count": 90,
   "metadata": {},
   "outputs": [
    {
     "data": {
      "text/html": [
       "<div>\n",
       "<style scoped>\n",
       "    .dataframe tbody tr th:only-of-type {\n",
       "        vertical-align: middle;\n",
       "    }\n",
       "\n",
       "    .dataframe tbody tr th {\n",
       "        vertical-align: top;\n",
       "    }\n",
       "\n",
       "    .dataframe thead th {\n",
       "        text-align: right;\n",
       "    }\n",
       "</style>\n",
       "<table border=\"1\" class=\"dataframe\">\n",
       "  <thead>\n",
       "    <tr style=\"text-align: right;\">\n",
       "      <th></th>\n",
       "      <th>BCUT_PEOE_1</th>\n",
       "      <th>h_logS</th>\n",
       "      <th>npr2</th>\n",
       "      <th>PEOE_RPC.</th>\n",
       "      <th>PEOE_VSA.1.1</th>\n",
       "      <th>SMR_VSA3</th>\n",
       "      <th>std_dim3</th>\n",
       "      <th>vsurf_DD23</th>\n",
       "      <th>vsurf_DW23</th>\n",
       "      <th>vsurf_R</th>\n",
       "      <th>vsurf_D6</th>\n",
       "      <th>a_ICM</th>\n",
       "      <th>PEOE_VSA_FNEG</th>\n",
       "      <th>PEOE_VSA_FPOS</th>\n",
       "      <th>vsurf_D5</th>\n",
       "      <th>h_ema</th>\n",
       "    </tr>\n",
       "  </thead>\n",
       "  <tbody>\n",
       "    <tr>\n",
       "      <th>0</th>\n",
       "      <td>-0.509120</td>\n",
       "      <td>-7.301610</td>\n",
       "      <td>0.865424</td>\n",
       "      <td>0.074369</td>\n",
       "      <td>235.035110</td>\n",
       "      <td>24.785706</td>\n",
       "      <td>1.623039</td>\n",
       "      <td>0.500000</td>\n",
       "      <td>0.500000</td>\n",
       "      <td>1.610714</td>\n",
       "      <td>343.500</td>\n",
       "      <td>1.531109</td>\n",
       "      <td>0.450831</td>\n",
       "      <td>0.549169</td>\n",
       "      <td>426.000</td>\n",
       "      <td>14.044005</td>\n",
       "    </tr>\n",
       "    <tr>\n",
       "      <th>1</th>\n",
       "      <td>-0.681715</td>\n",
       "      <td>-8.090596</td>\n",
       "      <td>0.919208</td>\n",
       "      <td>0.114688</td>\n",
       "      <td>219.328540</td>\n",
       "      <td>24.504246</td>\n",
       "      <td>1.137902</td>\n",
       "      <td>2.291288</td>\n",
       "      <td>2.291288</td>\n",
       "      <td>1.467669</td>\n",
       "      <td>335.500</td>\n",
       "      <td>1.394617</td>\n",
       "      <td>0.833095</td>\n",
       "      <td>0.166905</td>\n",
       "      <td>374.500</td>\n",
       "      <td>1.789496</td>\n",
       "    </tr>\n",
       "    <tr>\n",
       "      <th>2</th>\n",
       "      <td>-0.631661</td>\n",
       "      <td>-6.204517</td>\n",
       "      <td>0.935585</td>\n",
       "      <td>0.164711</td>\n",
       "      <td>147.909730</td>\n",
       "      <td>18.195690</td>\n",
       "      <td>1.228131</td>\n",
       "      <td>1.118034</td>\n",
       "      <td>0.500000</td>\n",
       "      <td>1.521332</td>\n",
       "      <td>262.375</td>\n",
       "      <td>1.687941</td>\n",
       "      <td>0.882079</td>\n",
       "      <td>0.117921</td>\n",
       "      <td>292.125</td>\n",
       "      <td>3.573645</td>\n",
       "    </tr>\n",
       "    <tr>\n",
       "      <th>3</th>\n",
       "      <td>-0.667396</td>\n",
       "      <td>-6.721433</td>\n",
       "      <td>0.927113</td>\n",
       "      <td>0.121353</td>\n",
       "      <td>172.419540</td>\n",
       "      <td>17.503033</td>\n",
       "      <td>0.912487</td>\n",
       "      <td>0.500000</td>\n",
       "      <td>0.500000</td>\n",
       "      <td>1.429877</td>\n",
       "      <td>310.250</td>\n",
       "      <td>1.448576</td>\n",
       "      <td>0.820857</td>\n",
       "      <td>0.179143</td>\n",
       "      <td>343.875</td>\n",
       "      <td>1.259619</td>\n",
       "    </tr>\n",
       "    <tr>\n",
       "      <th>4</th>\n",
       "      <td>-0.665789</td>\n",
       "      <td>-8.511435</td>\n",
       "      <td>0.827602</td>\n",
       "      <td>0.142438</td>\n",
       "      <td>0.000000</td>\n",
       "      <td>10.486856</td>\n",
       "      <td>0.994331</td>\n",
       "      <td>1.870829</td>\n",
       "      <td>3.240370</td>\n",
       "      <td>1.447858</td>\n",
       "      <td>376.250</td>\n",
       "      <td>1.630983</td>\n",
       "      <td>0.868358</td>\n",
       "      <td>0.131642</td>\n",
       "      <td>421.500</td>\n",
       "      <td>2.461521</td>\n",
       "    </tr>\n",
       "    <tr>\n",
       "      <th>...</th>\n",
       "      <td>...</td>\n",
       "      <td>...</td>\n",
       "      <td>...</td>\n",
       "      <td>...</td>\n",
       "      <td>...</td>\n",
       "      <td>...</td>\n",
       "      <td>...</td>\n",
       "      <td>...</td>\n",
       "      <td>...</td>\n",
       "      <td>...</td>\n",
       "      <td>...</td>\n",
       "      <td>...</td>\n",
       "      <td>...</td>\n",
       "      <td>...</td>\n",
       "      <td>...</td>\n",
       "      <td>...</td>\n",
       "    </tr>\n",
       "    <tr>\n",
       "      <th>78</th>\n",
       "      <td>-0.392376</td>\n",
       "      <td>-5.279293</td>\n",
       "      <td>0.713509</td>\n",
       "      <td>0.111591</td>\n",
       "      <td>61.274521</td>\n",
       "      <td>9.556724</td>\n",
       "      <td>0.423491</td>\n",
       "      <td>6.519202</td>\n",
       "      <td>6.519202</td>\n",
       "      <td>1.396001</td>\n",
       "      <td>204.000</td>\n",
       "      <td>0.999010</td>\n",
       "      <td>0.682830</td>\n",
       "      <td>0.317170</td>\n",
       "      <td>254.000</td>\n",
       "      <td>0.000000</td>\n",
       "    </tr>\n",
       "    <tr>\n",
       "      <th>79</th>\n",
       "      <td>-0.466827</td>\n",
       "      <td>-4.462789</td>\n",
       "      <td>0.956616</td>\n",
       "      <td>0.153789</td>\n",
       "      <td>0.000000</td>\n",
       "      <td>0.000000</td>\n",
       "      <td>0.863262</td>\n",
       "      <td>6.020797</td>\n",
       "      <td>5.545268</td>\n",
       "      <td>1.329116</td>\n",
       "      <td>2.500</td>\n",
       "      <td>1.931753</td>\n",
       "      <td>0.790954</td>\n",
       "      <td>0.209046</td>\n",
       "      <td>7.250</td>\n",
       "      <td>9.153351</td>\n",
       "    </tr>\n",
       "    <tr>\n",
       "      <th>80</th>\n",
       "      <td>-0.586864</td>\n",
       "      <td>-5.812396</td>\n",
       "      <td>0.757929</td>\n",
       "      <td>0.097090</td>\n",
       "      <td>110.294140</td>\n",
       "      <td>3.185575</td>\n",
       "      <td>0.242777</td>\n",
       "      <td>6.519202</td>\n",
       "      <td>6.519202</td>\n",
       "      <td>1.421345</td>\n",
       "      <td>217.375</td>\n",
       "      <td>0.991076</td>\n",
       "      <td>0.732395</td>\n",
       "      <td>0.267605</td>\n",
       "      <td>260.375</td>\n",
       "      <td>0.000000</td>\n",
       "    </tr>\n",
       "    <tr>\n",
       "      <th>81</th>\n",
       "      <td>-0.440078</td>\n",
       "      <td>-4.751402</td>\n",
       "      <td>0.827321</td>\n",
       "      <td>0.115845</td>\n",
       "      <td>73.529427</td>\n",
       "      <td>6.371150</td>\n",
       "      <td>0.365896</td>\n",
       "      <td>6.670832</td>\n",
       "      <td>6.670832</td>\n",
       "      <td>1.364408</td>\n",
       "      <td>186.125</td>\n",
       "      <td>1.000000</td>\n",
       "      <td>0.700751</td>\n",
       "      <td>0.299249</td>\n",
       "      <td>238.500</td>\n",
       "      <td>0.000000</td>\n",
       "    </tr>\n",
       "    <tr>\n",
       "      <th>82</th>\n",
       "      <td>-0.341436</td>\n",
       "      <td>-6.403943</td>\n",
       "      <td>0.954907</td>\n",
       "      <td>0.154563</td>\n",
       "      <td>0.000000</td>\n",
       "      <td>0.000000</td>\n",
       "      <td>1.002147</td>\n",
       "      <td>0.707107</td>\n",
       "      <td>8.500000</td>\n",
       "      <td>1.423038</td>\n",
       "      <td>27.750</td>\n",
       "      <td>2.025139</td>\n",
       "      <td>0.768118</td>\n",
       "      <td>0.231882</td>\n",
       "      <td>45.500</td>\n",
       "      <td>13.115110</td>\n",
       "    </tr>\n",
       "  </tbody>\n",
       "</table>\n",
       "<p>83 rows × 16 columns</p>\n",
       "</div>"
      ],
      "text/plain": [
       "    BCUT_PEOE_1    h_logS      npr2  PEOE_RPC.  PEOE_VSA.1.1   SMR_VSA3  \\\n",
       "0     -0.509120 -7.301610  0.865424   0.074369    235.035110  24.785706   \n",
       "1     -0.681715 -8.090596  0.919208   0.114688    219.328540  24.504246   \n",
       "2     -0.631661 -6.204517  0.935585   0.164711    147.909730  18.195690   \n",
       "3     -0.667396 -6.721433  0.927113   0.121353    172.419540  17.503033   \n",
       "4     -0.665789 -8.511435  0.827602   0.142438      0.000000  10.486856   \n",
       "..          ...       ...       ...        ...           ...        ...   \n",
       "78    -0.392376 -5.279293  0.713509   0.111591     61.274521   9.556724   \n",
       "79    -0.466827 -4.462789  0.956616   0.153789      0.000000   0.000000   \n",
       "80    -0.586864 -5.812396  0.757929   0.097090    110.294140   3.185575   \n",
       "81    -0.440078 -4.751402  0.827321   0.115845     73.529427   6.371150   \n",
       "82    -0.341436 -6.403943  0.954907   0.154563      0.000000   0.000000   \n",
       "\n",
       "    std_dim3  vsurf_DD23  vsurf_DW23   vsurf_R  vsurf_D6     a_ICM  \\\n",
       "0   1.623039    0.500000    0.500000  1.610714   343.500  1.531109   \n",
       "1   1.137902    2.291288    2.291288  1.467669   335.500  1.394617   \n",
       "2   1.228131    1.118034    0.500000  1.521332   262.375  1.687941   \n",
       "3   0.912487    0.500000    0.500000  1.429877   310.250  1.448576   \n",
       "4   0.994331    1.870829    3.240370  1.447858   376.250  1.630983   \n",
       "..       ...         ...         ...       ...       ...       ...   \n",
       "78  0.423491    6.519202    6.519202  1.396001   204.000  0.999010   \n",
       "79  0.863262    6.020797    5.545268  1.329116     2.500  1.931753   \n",
       "80  0.242777    6.519202    6.519202  1.421345   217.375  0.991076   \n",
       "81  0.365896    6.670832    6.670832  1.364408   186.125  1.000000   \n",
       "82  1.002147    0.707107    8.500000  1.423038    27.750  2.025139   \n",
       "\n",
       "    PEOE_VSA_FNEG  PEOE_VSA_FPOS  vsurf_D5      h_ema  \n",
       "0        0.450831       0.549169   426.000  14.044005  \n",
       "1        0.833095       0.166905   374.500   1.789496  \n",
       "2        0.882079       0.117921   292.125   3.573645  \n",
       "3        0.820857       0.179143   343.875   1.259619  \n",
       "4        0.868358       0.131642   421.500   2.461521  \n",
       "..            ...            ...       ...        ...  \n",
       "78       0.682830       0.317170   254.000   0.000000  \n",
       "79       0.790954       0.209046     7.250   9.153351  \n",
       "80       0.732395       0.267605   260.375   0.000000  \n",
       "81       0.700751       0.299249   238.500   0.000000  \n",
       "82       0.768118       0.231882    45.500  13.115110  \n",
       "\n",
       "[83 rows x 16 columns]"
      ]
     },
     "execution_count": 90,
     "metadata": {},
     "output_type": "execute_result"
    }
   ],
   "source": [
    "X = pd.concat([x_from006,x_adding], axis=1)\n",
    "X"
   ]
  },
  {
   "cell_type": "code",
   "execution_count": 91,
   "metadata": {},
   "outputs": [
    {
     "data": {
      "text/plain": [
       "0    -2.04\n",
       "1    -1.90\n",
       "2    -1.86\n",
       "3    -1.83\n",
       "4    -1.70\n",
       "      ... \n",
       "78    0.41\n",
       "79    0.51\n",
       "80    0.69\n",
       "81    0.69\n",
       "82    0.86\n",
       "Name: Ratios Ln, Length: 83, dtype: float64"
      ]
     },
     "execution_count": 91,
     "metadata": {},
     "output_type": "execute_result"
    }
   ],
   "source": [
    "y"
   ]
  },
  {
   "cell_type": "markdown",
   "metadata": {},
   "source": [
    "## step 3  outliers Detection"
   ]
  },
  {
   "cell_type": "markdown",
   "metadata": {},
   "source": [
    "## Visualization--------PCA"
   ]
  },
  {
   "cell_type": "code",
   "execution_count": 88,
   "metadata": {},
   "outputs": [],
   "source": [
    "from sklearn.preprocessing import StandardScaler\n",
    "from sklearn.decomposition import PCA"
   ]
  },
  {
   "cell_type": "code",
   "execution_count": 93,
   "metadata": {},
   "outputs": [
    {
     "name": "stdout",
     "output_type": "stream",
     "text": [
      "(83, 16) (83, 2)\n"
     ]
    }
   ],
   "source": [
    "# Before applying PCA, each feature should be centered (zero mean) and with unit variance\n",
    "X_normalized = StandardScaler().fit(X).transform(X)  \n",
    "\n",
    "pca = PCA(n_components = 2).fit(X_normalized)\n",
    "\n",
    "X_pca = pca.transform(X_normalized)\n",
    "\n",
    "print(X.shape, X_pca.shape)"
   ]
  },
  {
   "cell_type": "markdown",
   "metadata": {},
   "source": [
    "## Plotting the PCA-transformed version of the dataset"
   ]
  },
  {
   "cell_type": "code",
   "execution_count": 94,
   "metadata": {},
   "outputs": [
    {
     "data": {
      "image/png": "[encoded data removed]",
      "text/plain": [
       "<Figure size 1152x576 with 1 Axes>"
      ]
     },
     "metadata": {
      "needs_background": "light"
     },
     "output_type": "display_data"
    }
   ],
   "source": [
    "%matplotlib inline\n",
    "from mpl_toolkits.mplot3d import Axes3D\n",
    "fig = plt.figure(figsize=(16, 8))\n",
    "ax = fig.add_subplot(111, projection='3d')\n",
    "ax.scatter(X_pca[:,0],X_pca[:,1],y,s=25)\n",
    "ax.set_xlabel('First principal component')\n",
    "ax.set_ylabel('Second principal component')\n",
    "ax.set_zlabel('Ratios Ln')\n",
    "plt.title('Dataset PCA (n_components = 2)')\n",
    "plt.show()"
   ]
  },
  {
   "cell_type": "markdown",
   "metadata": {},
   "source": [
    "Number of potential outliers : 0 (0 %)"
   ]
  },
  {
   "cell_type": "markdown",
   "metadata": {},
   "source": [
    "# DBSCAN clustering\n",
    "https://scikit-learn.org/stable/modules/generated/sklearn.cluster.DBSCAN.html"
   ]
  },
  {
   "cell_type": "code",
   "execution_count": 95,
   "metadata": {},
   "outputs": [],
   "source": [
    "from sklearn.cluster import DBSCAN"
   ]
  },
  {
   "cell_type": "code",
   "execution_count": 100,
   "metadata": {},
   "outputs": [
    {
     "name": "stdout",
     "output_type": "stream",
     "text": [
      "Cluster membership values:\n",
      "[0 0 0 0 0 0 0 0 1 0 0 2 0 0 0 0 2 0 2 0 0 0 0 0 0 0 0 0 0 0 0 0 0 0 2 0 0\n",
      " 2 0 0 0 0 0 0 0 2 0 0 0 0 0 0 0 2 0 0 0 0 0 0 0 0 0 2 0 0 0 0 0 2 0 2 0 0\n",
      " 0 0 0 0 0 2 0 0 2]\n"
     ]
    }
   ],
   "source": [
    "dbscan = DBSCAN(eps =4, min_samples = 1)\n",
    "\n",
    "cls_findOutlier = dbscan.fit_predict(X_normalized)\n",
    "\n",
    "print(\"Cluster membership values:\\n{}\".format(cls_findOutlier))\n",
    "\n"
   ]
  },
  {
   "cell_type": "code",
   "execution_count": 101,
   "metadata": {},
   "outputs": [
    {
     "data": {
      "text/plain": [
       "{0: 70, 1: 1, 2: 12}"
      ]
     },
     "execution_count": 101,
     "metadata": {},
     "output_type": "execute_result"
    }
   ],
   "source": [
    "unique, counts = np.unique(cls_findOutlier, return_counts=True)\n",
    "dict(zip(unique, counts))"
   ]
  },
  {
   "cell_type": "markdown",
   "metadata": {},
   "source": [
    "### We tested with different values of \"eps\" and \"min_samples\", no 'Cluster membership values' equals -1. \n",
    "### Therefore, no outliers need to be removed."
   ]
  },
  {
   "cell_type": "markdown",
   "metadata": {},
   "source": [
    "# Model training"
   ]
  },
  {
   "cell_type": "code",
   "execution_count": 104,
   "metadata": {},
   "outputs": [],
   "source": [
    "#Create trrain-test split. training set/ test set = 80%/20%\n",
    "\n",
    "from sklearn.model_selection import train_test_split\n",
    "\n",
    "X_train, X_test, y_train, y_test = train_test_split(X, y, test_size=0.20, random_state=0)"
   ]
  },
  {
   "cell_type": "code",
   "execution_count": 107,
   "metadata": {},
   "outputs": [
    {
     "data": {
      "text/html": [
       "<div>\n",
       "<style scoped>\n",
       "    .dataframe tbody tr th:only-of-type {\n",
       "        vertical-align: middle;\n",
       "    }\n",
       "\n",
       "    .dataframe tbody tr th {\n",
       "        vertical-align: top;\n",
       "    }\n",
       "\n",
       "    .dataframe thead th {\n",
       "        text-align: right;\n",
       "    }\n",
       "</style>\n",
       "<table border=\"1\" class=\"dataframe\">\n",
       "  <thead>\n",
       "    <tr style=\"text-align: right;\">\n",
       "      <th></th>\n",
       "      <th>BCUT_PEOE_1</th>\n",
       "      <th>h_logS</th>\n",
       "      <th>npr2</th>\n",
       "      <th>PEOE_RPC.</th>\n",
       "      <th>PEOE_VSA.1.1</th>\n",
       "      <th>SMR_VSA3</th>\n",
       "      <th>std_dim3</th>\n",
       "      <th>vsurf_DD23</th>\n",
       "      <th>vsurf_DW23</th>\n",
       "      <th>vsurf_R</th>\n",
       "      <th>vsurf_D6</th>\n",
       "      <th>a_ICM</th>\n",
       "      <th>PEOE_VSA_FNEG</th>\n",
       "      <th>PEOE_VSA_FPOS</th>\n",
       "      <th>vsurf_D5</th>\n",
       "      <th>h_ema</th>\n",
       "    </tr>\n",
       "  </thead>\n",
       "  <tbody>\n",
       "    <tr>\n",
       "      <th>57</th>\n",
       "      <td>-0.687694</td>\n",
       "      <td>-12.304079</td>\n",
       "      <td>0.986164</td>\n",
       "      <td>0.145518</td>\n",
       "      <td>0.000000</td>\n",
       "      <td>10.486856</td>\n",
       "      <td>1.297009</td>\n",
       "      <td>7.262919</td>\n",
       "      <td>0.866025</td>\n",
       "      <td>1.578192</td>\n",
       "      <td>429.000</td>\n",
       "      <td>1.208830</td>\n",
       "      <td>0.917524</td>\n",
       "      <td>0.082476</td>\n",
       "      <td>480.250</td>\n",
       "      <td>3.396303</td>\n",
       "    </tr>\n",
       "    <tr>\n",
       "      <th>80</th>\n",
       "      <td>-0.586864</td>\n",
       "      <td>-5.812396</td>\n",
       "      <td>0.757929</td>\n",
       "      <td>0.097090</td>\n",
       "      <td>110.294140</td>\n",
       "      <td>3.185575</td>\n",
       "      <td>0.242777</td>\n",
       "      <td>6.519202</td>\n",
       "      <td>6.519202</td>\n",
       "      <td>1.421345</td>\n",
       "      <td>217.375</td>\n",
       "      <td>0.991076</td>\n",
       "      <td>0.732395</td>\n",
       "      <td>0.267605</td>\n",
       "      <td>260.375</td>\n",
       "      <td>0.000000</td>\n",
       "    </tr>\n",
       "    <tr>\n",
       "      <th>73</th>\n",
       "      <td>-0.627444</td>\n",
       "      <td>-3.417325</td>\n",
       "      <td>0.792161</td>\n",
       "      <td>0.163867</td>\n",
       "      <td>73.529427</td>\n",
       "      <td>0.000000</td>\n",
       "      <td>0.000575</td>\n",
       "      <td>0.707107</td>\n",
       "      <td>0.707107</td>\n",
       "      <td>1.347578</td>\n",
       "      <td>195.000</td>\n",
       "      <td>1.200910</td>\n",
       "      <td>0.644506</td>\n",
       "      <td>0.355494</td>\n",
       "      <td>226.250</td>\n",
       "      <td>0.566942</td>\n",
       "    </tr>\n",
       "    <tr>\n",
       "      <th>43</th>\n",
       "      <td>-0.641094</td>\n",
       "      <td>-5.805224</td>\n",
       "      <td>0.714243</td>\n",
       "      <td>0.220729</td>\n",
       "      <td>179.602310</td>\n",
       "      <td>19.245853</td>\n",
       "      <td>0.925130</td>\n",
       "      <td>6.344289</td>\n",
       "      <td>0.866025</td>\n",
       "      <td>1.416656</td>\n",
       "      <td>238.500</td>\n",
       "      <td>1.630983</td>\n",
       "      <td>0.758388</td>\n",
       "      <td>0.241612</td>\n",
       "      <td>279.000</td>\n",
       "      <td>1.880388</td>\n",
       "    </tr>\n",
       "    <tr>\n",
       "      <th>60</th>\n",
       "      <td>-0.567680</td>\n",
       "      <td>-2.032749</td>\n",
       "      <td>0.605244</td>\n",
       "      <td>0.248743</td>\n",
       "      <td>24.509808</td>\n",
       "      <td>6.371150</td>\n",
       "      <td>0.000301</td>\n",
       "      <td>0.707107</td>\n",
       "      <td>2.500000</td>\n",
       "      <td>1.255820</td>\n",
       "      <td>100.625</td>\n",
       "      <td>1.649397</td>\n",
       "      <td>0.576703</td>\n",
       "      <td>0.423297</td>\n",
       "      <td>121.000</td>\n",
       "      <td>3.412121</td>\n",
       "    </tr>\n",
       "  </tbody>\n",
       "</table>\n",
       "</div>"
      ],
      "text/plain": [
       "    BCUT_PEOE_1     h_logS      npr2  PEOE_RPC.  PEOE_VSA.1.1   SMR_VSA3  \\\n",
       "57    -0.687694 -12.304079  0.986164   0.145518      0.000000  10.486856   \n",
       "80    -0.586864  -5.812396  0.757929   0.097090    110.294140   3.185575   \n",
       "73    -0.627444  -3.417325  0.792161   0.163867     73.529427   0.000000   \n",
       "43    -0.641094  -5.805224  0.714243   0.220729    179.602310  19.245853   \n",
       "60    -0.567680  -2.032749  0.605244   0.248743     24.509808   6.371150   \n",
       "\n",
       "    std_dim3  vsurf_DD23  vsurf_DW23   vsurf_R  vsurf_D6     a_ICM  \\\n",
       "57  1.297009    7.262919    0.866025  1.578192   429.000  1.208830   \n",
       "80  0.242777    6.519202    6.519202  1.421345   217.375  0.991076   \n",
       "73  0.000575    0.707107    0.707107  1.347578   195.000  1.200910   \n",
       "43  0.925130    6.344289    0.866025  1.416656   238.500  1.630983   \n",
       "60  0.000301    0.707107    2.500000  1.255820   100.625  1.649397   \n",
       "\n",
       "    PEOE_VSA_FNEG  PEOE_VSA_FPOS  vsurf_D5     h_ema  \n",
       "57       0.917524       0.082476   480.250  3.396303  \n",
       "80       0.732395       0.267605   260.375  0.000000  \n",
       "73       0.644506       0.355494   226.250  0.566942  \n",
       "43       0.758388       0.241612   279.000  1.880388  \n",
       "60       0.576703       0.423297   121.000  3.412121  "
      ]
     },
     "execution_count": 107,
     "metadata": {},
     "output_type": "execute_result"
    }
   ],
   "source": [
    "X_train.head()"
   ]
  },
  {
   "cell_type": "markdown",
   "metadata": {},
   "source": [
    "## Dummy ---------using Dummy as the baseline"
   ]
  },
  {
   "cell_type": "code",
   "execution_count": 108,
   "metadata": {},
   "outputs": [],
   "source": [
    "from sklearn.dummy import DummyRegressor"
   ]
  },
  {
   "cell_type": "code",
   "execution_count": 109,
   "metadata": {},
   "outputs": [
    {
     "name": "stdout",
     "output_type": "stream",
     "text": [
      "R-squared test score for dummy: 0.000\n",
      "R-squared test score for dommy: -0.034\n"
     ]
    }
   ],
   "source": [
    "dummy_regr = DummyRegressor(strategy=\"mean\").fit(X_train, y_train)\n",
    "print('R-squared test score for dummy: {:.3f}'\n",
    "     .format(dummy_regr.score(X_train, y_train)))\n",
    "print('R-squared test score for dommy: {:.3f}'\n",
    "     .format(dummy_regr.score(X_test, y_test)))"
   ]
  },
  {
   "cell_type": "markdown",
   "metadata": {},
   "source": [
    "## Decision Tree"
   ]
  },
  {
   "cell_type": "code",
   "execution_count": 110,
   "metadata": {},
   "outputs": [
    {
     "name": "stdout",
     "output_type": "stream",
     "text": [
      "min_samples_split = 2, \n",
      "r-squared training: 1.00, \n",
      "r-squared test: 0.46\n",
      "\n",
      "min_samples_split = 3, \n",
      "r-squared training: 0.99, \n",
      "r-squared test: 0.35\n",
      "\n",
      "min_samples_split = 4, \n",
      "r-squared training: 0.99, \n",
      "r-squared test: 0.31\n",
      "\n",
      "min_samples_split = 5, \n",
      "r-squared training: 0.97, \n",
      "r-squared test: 0.32\n",
      "\n",
      "min_samples_split = 6, \n",
      "r-squared training: 0.97, \n",
      "r-squared test: 0.41\n",
      "\n",
      "min_samples_split = 7, \n",
      "r-squared training: 0.95, \n",
      "r-squared test: 0.37\n",
      "\n",
      "min_samples_split = 8, \n",
      "r-squared training: 0.94, \n",
      "r-squared test: 0.38\n",
      "\n",
      "min_samples_split = 9, \n",
      "r-squared training: 0.90, \n",
      "r-squared test: 0.35\n",
      "\n",
      "min_samples_split = 10, \n",
      "r-squared training: 0.90, \n",
      "r-squared test: 0.35\n",
      "\n",
      "min_samples_split = 15, \n",
      "r-squared training: 0.84, \n",
      "r-squared test: 0.38\n",
      "\n",
      "min_samples_split = 20, \n",
      "r-squared training: 0.69, \n",
      "r-squared test: 0.31\n",
      "\n",
      "min_samples_split = 25, \n",
      "r-squared training: 0.59, \n",
      "r-squared test: 0.58\n",
      "\n",
      "min_samples_split = 30, \n",
      "r-squared training: 0.40, \n",
      "r-squared test: 0.45\n",
      "\n",
      "min_samples_split = 35, \n",
      "r-squared training: 0.40, \n",
      "r-squared test: 0.45\n",
      "\n",
      "min_samples_split = 40, \n",
      "r-squared training: 0.40, \n",
      "r-squared test: 0.45\n",
      "\n",
      "min_samples_split = 45, \n",
      "r-squared training: 0.31, \n",
      "r-squared test: 0.44\n",
      "\n",
      "min_samples_split = 50, \n",
      "r-squared training: 0.31, \n",
      "r-squared test: 0.44\n",
      "\n",
      "min_samples_split = 55, \n",
      "r-squared training: 0.31, \n",
      "r-squared test: 0.44\n",
      "\n",
      "min_samples_split = 60, \n",
      "r-squared training: 0.31, \n",
      "r-squared test: 0.44\n",
      "\n",
      "min_samples_split = 65, \n",
      "r-squared training: 0.31, \n",
      "r-squared test: 0.44\n",
      "\n",
      "min_samples_split = 70, \n",
      "r-squared training: 0.00, \n",
      "r-squared test: -0.03\n",
      "\n"
     ]
    }
   ],
   "source": [
    "# import the regressor \n",
    "from sklearn.tree import DecisionTreeRegressor  \n",
    "\n",
    "min_samples_list = [2,3,4,5,6,7,8,9,10,15,20,25,30,35,40,45,50,55,60,65,70]\n",
    "train_score_list = []\n",
    "test_score_list = []\n",
    "\n",
    "# create a regressor object \n",
    "for this_min_samples in min_samples_list:\n",
    "    regressor = DecisionTreeRegressor(min_samples_split = this_min_samples,random_state = 0).fit(X_train, y_train)\n",
    "    train_score = regressor.score(X_train,y_train)\n",
    "    test_score = regressor.score(X_test,y_test)\n",
    "    train_score_list.append(train_score)\n",
    "    test_score_list.append(test_score)\n",
    "\n",
    "    print('min_samples_split = {}, \\nr-squared training: {:.2f}, \\nr-squared test: {:.2f}\\n'\n",
    "         .format(this_min_samples,train_score, test_score))"
   ]
  },
  {
   "cell_type": "code",
   "execution_count": 111,
   "metadata": {},
   "outputs": [
    {
     "data": {
      "image/png": "[encoded data removed]",
      "text/plain": [
       "<Figure size 1152x576 with 1 Axes>"
      ]
     },
     "metadata": {
      "needs_background": "light"
     },
     "output_type": "display_data"
    }
   ],
   "source": [
    "%matplotlib inline\n",
    "plt.figure(figsize=(16, 8))\n",
    "plt.plot(min_samples_list, train_score_list, '-o', label = \"training scores\")\n",
    "plt.plot(min_samples_list, test_score_list, '-x',label =\"test scores\" )\n",
    "plt.xlabel(\"min_samples_split\")\n",
    "plt.ylabel(\"Scores\")\n",
    "plt.legend()\n",
    "plt.show()"
   ]
  },
  {
   "cell_type": "code",
   "execution_count": 112,
   "metadata": {},
   "outputs": [
    {
     "name": "stdout",
     "output_type": "stream",
     "text": [
      "max_depth = 2, \n",
      "r-squared training: 0.53, \n",
      "r-squared test: 0.62\n",
      "\n",
      "max_depth = 3, \n",
      "r-squared training: 0.74, \n",
      "r-squared test: 0.25\n",
      "\n",
      "max_depth = 4, \n",
      "r-squared training: 0.88, \n",
      "r-squared test: 0.41\n",
      "\n",
      "max_depth = 5, \n",
      "r-squared training: 0.95, \n",
      "r-squared test: 0.48\n",
      "\n",
      "max_depth = 6, \n",
      "r-squared training: 0.98, \n",
      "r-squared test: 0.47\n",
      "\n",
      "max_depth = 7, \n",
      "r-squared training: 0.99, \n",
      "r-squared test: 0.52\n",
      "\n",
      "max_depth = 8, \n",
      "r-squared training: 1.00, \n",
      "r-squared test: 0.43\n",
      "\n"
     ]
    }
   ],
   "source": [
    "# import the regressor \n",
    "from sklearn.tree import DecisionTreeRegressor  \n",
    "\n",
    "max_depth_list = [2,3,4,5,6,7,8]\n",
    "train_score_list = []\n",
    "test_score_list = []\n",
    "\n",
    "# create a regressor object \n",
    "for this_max_depth in max_depth_list:\n",
    "    regressor = DecisionTreeRegressor(max_depth = this_max_depth,random_state = 0).fit(X_train, y_train)\n",
    "    train_score = regressor.score(X_train,y_train)\n",
    "    test_score = regressor.score(X_test,y_test)\n",
    "    train_score_list.append(train_score)\n",
    "    test_score_list.append(test_score)\n",
    "\n",
    "    print('max_depth = {}, \\nr-squared training: {:.2f}, \\nr-squared test: {:.2f}\\n'\n",
    "         .format(this_max_depth,train_score, test_score))"
   ]
  },
  {
   "cell_type": "code",
   "execution_count": 113,
   "metadata": {},
   "outputs": [
    {
     "data": {
      "image/png": "[encoded data removed]",
      "text/plain": [
       "<Figure size 1152x576 with 1 Axes>"
      ]
     },
     "metadata": {
      "needs_background": "light"
     },
     "output_type": "display_data"
    }
   ],
   "source": [
    "%matplotlib inline\n",
    "plt.figure(figsize=(16, 8))\n",
    "plt.plot(max_depth_list, train_score_list, '-o', label = \"training scores\")\n",
    "plt.plot(max_depth_list, test_score_list, '-x',label =\"test scores\" )\n",
    "plt.xlabel(\"max_depth\")\n",
    "plt.ylabel(\"Scores\")\n",
    "plt.legend()\n",
    "plt.show()"
   ]
  },
  {
   "cell_type": "markdown",
   "metadata": {},
   "source": [
    "### Cross-validation"
   ]
  },
  {
   "cell_type": "code",
   "execution_count": 114,
   "metadata": {},
   "outputs": [
    {
     "data": {
      "text/plain": [
       "[-0.7022856460095447,\n",
       " -0.9332499365156225,\n",
       " -0.6333039974490883,\n",
       " -0.9338000098801619,\n",
       " -0.9072830518635117,\n",
       " -0.6193263603027112,\n",
       " -0.6409874597165112,\n",
       " -0.8118305194475067,\n",
       " -0.42403450547841404,\n",
       " -0.3369655605031218,\n",
       " -0.2475175254996921,\n",
       " -0.10270029271236099,\n",
       " 0.02758239079670192,\n",
       " 0.04710057098028938,\n",
       " 0.04710057098028938,\n",
       " 0.04710057098028938,\n",
       " 0.04710057098028938,\n",
       " 0.04710057098028938,\n",
       " -0.026477050809976903]"
      ]
     },
     "execution_count": 114,
     "metadata": {},
     "output_type": "execute_result"
    }
   ],
   "source": [
    "from sklearn.model_selection import cross_val_score\n",
    "\n",
    "min_samples_list = [2,3,4,5,6,7,8,9,10,15,20,25,30,35,40,42,43,44,45]\n",
    "\n",
    "cv_scores_mean = []\n",
    "\n",
    "for this_min_samples in min_samples_list:\n",
    "    regressor = DecisionTreeRegressor(min_samples_split = this_min_samples,random_state = 0)\n",
    "    \n",
    "    cv_scores = cross_val_score(regressor,X_train,y_train,cv=3,scoring =\"r2\")\n",
    "    cv_scores_mean.append(np.mean(cv_scores))\n",
    "\n",
    "#print(\"mean R-squared score\", np.mean(cv_scores))\n",
    "cv_scores_mean"
   ]
  },
  {
   "cell_type": "code",
   "execution_count": 115,
   "metadata": {},
   "outputs": [
    {
     "data": {
      "image/png": "[encoded data removed]",
      "text/plain": [
       "<Figure size 1152x576 with 1 Axes>"
      ]
     },
     "metadata": {
      "needs_background": "light"
     },
     "output_type": "display_data"
    }
   ],
   "source": [
    "%matplotlib inline\n",
    "plt.figure(figsize=(16, 8))\n",
    "plt.plot(min_samples_list, cv_scores_mean, '-o')\n",
    "plt.xlabel(\"min_samples_list\")\n",
    "plt.ylabel(\"Scores\")\n",
    "plt.show()"
   ]
  },
  {
   "cell_type": "code",
   "execution_count": 116,
   "metadata": {},
   "outputs": [
    {
     "data": {
      "text/plain": [
       "[-0.2232876902772257,\n",
       " -0.5315339844719619,\n",
       " -0.6331595651437122,\n",
       " -0.6836884754817422,\n",
       " -0.7925518696358586,\n",
       " -0.6946255496246198,\n",
       " -0.9168397960379665]"
      ]
     },
     "execution_count": 116,
     "metadata": {},
     "output_type": "execute_result"
    }
   ],
   "source": [
    "from sklearn.model_selection import cross_val_score\n",
    "\n",
    "max_depth_list = [2,3,4,5,6,7,8]\n",
    "\n",
    "cv_scores_mean = []\n",
    "\n",
    "for this_max_depth in max_depth_list:\n",
    "    regressor = DecisionTreeRegressor(max_depth = this_max_depth,random_state = 0)\n",
    "    \n",
    "    cv_scores = cross_val_score(regressor,X_train,y_train,cv=3,scoring =\"r2\")\n",
    "    cv_scores_mean.append(np.mean(cv_scores))\n",
    "\n",
    "#print(\"mean R-squared score\", np.mean(cv_scores))\n",
    "cv_scores_mean"
   ]
  },
  {
   "cell_type": "code",
   "execution_count": 117,
   "metadata": {},
   "outputs": [
    {
     "data": {
      "image/png": "[encoded data removed]",
      "text/plain": [
       "<Figure size 1080x576 with 1 Axes>"
      ]
     },
     "metadata": {
      "needs_background": "light"
     },
     "output_type": "display_data"
    }
   ],
   "source": [
    "%matplotlib inline\n",
    "plt.figure(figsize=(15, 8))\n",
    "plt.plot(max_depth_list, cv_scores_mean, '-o')\n",
    "plt.xlabel(\"max_depth\")\n",
    "plt.ylabel(\"Scores\")\n",
    "plt.show()"
   ]
  },
  {
   "cell_type": "markdown",
   "metadata": {},
   "source": [
    "## Using the parameters which have the best performance"
   ]
  },
  {
   "cell_type": "code",
   "execution_count": 125,
   "metadata": {},
   "outputs": [
    {
     "name": "stdout",
     "output_type": "stream",
     "text": [
      "r-squared training: 0.40, \n",
      "r-squared test: 0.45\n",
      "\n"
     ]
    }
   ],
   "source": [
    "\n",
    "from sklearn.tree import DecisionTreeRegressor  \n",
    "\n",
    "# create a regressor object \n",
    "\n",
    "regressor = DecisionTreeRegressor(min_samples_split = 40,random_state = 0).fit(X_train, y_train)\n",
    "train_score = regressor.score(X_train,y_train)\n",
    "test_score = regressor.score(X_test,y_test)\n",
    "    \n",
    "print('r-squared training: {:.2f}, \\nr-squared test: {:.2f}\\n'\n",
    "         .format(train_score, test_score))"
   ]
  },
  {
   "cell_type": "code",
   "execution_count": null,
   "metadata": {},
   "outputs": [],
   "source": []
  },
  {
   "cell_type": "markdown",
   "metadata": {},
   "source": [
    "## Random Forest"
   ]
  },
  {
   "cell_type": "markdown",
   "metadata": {},
   "source": [
    "## Perform a grid search over the parameters "
   ]
  },
  {
   "cell_type": "code",
   "execution_count": 126,
   "metadata": {},
   "outputs": [],
   "source": [
    "from sklearn.model_selection import GridSearchCV\n",
    "from sklearn.ensemble import RandomForestRegressor"
   ]
  },
  {
   "cell_type": "code",
   "execution_count": 127,
   "metadata": {},
   "outputs": [
    {
     "data": {
      "text/html": [
       "<div>\n",
       "<style scoped>\n",
       "    .dataframe tbody tr th:only-of-type {\n",
       "        vertical-align: middle;\n",
       "    }\n",
       "\n",
       "    .dataframe tbody tr th {\n",
       "        vertical-align: top;\n",
       "    }\n",
       "\n",
       "    .dataframe thead th {\n",
       "        text-align: right;\n",
       "    }\n",
       "</style>\n",
       "<table border=\"1\" class=\"dataframe\">\n",
       "  <thead>\n",
       "    <tr style=\"text-align: right;\">\n",
       "      <th></th>\n",
       "      <th>n_estimators10</th>\n",
       "      <th>n_estimators15</th>\n",
       "      <th>n_estimators20</th>\n",
       "      <th>n_estimators25</th>\n",
       "    </tr>\n",
       "  </thead>\n",
       "  <tbody>\n",
       "    <tr>\n",
       "      <th>max_depth 2</th>\n",
       "      <td>0.221240</td>\n",
       "      <td>0.239358</td>\n",
       "      <td>0.214771</td>\n",
       "      <td>0.261951</td>\n",
       "    </tr>\n",
       "    <tr>\n",
       "      <th>max_depth 3</th>\n",
       "      <td>0.172095</td>\n",
       "      <td>0.235437</td>\n",
       "      <td>0.195889</td>\n",
       "      <td>0.220344</td>\n",
       "    </tr>\n",
       "    <tr>\n",
       "      <th>max_depth 4</th>\n",
       "      <td>0.219720</td>\n",
       "      <td>0.169957</td>\n",
       "      <td>0.273615</td>\n",
       "      <td>0.275679</td>\n",
       "    </tr>\n",
       "    <tr>\n",
       "      <th>max_depth 5</th>\n",
       "      <td>0.263403</td>\n",
       "      <td>0.191213</td>\n",
       "      <td>0.233267</td>\n",
       "      <td>0.285240</td>\n",
       "    </tr>\n",
       "    <tr>\n",
       "      <th>max_depth 6</th>\n",
       "      <td>0.172318</td>\n",
       "      <td>0.225510</td>\n",
       "      <td>0.278094</td>\n",
       "      <td>0.288712</td>\n",
       "    </tr>\n",
       "    <tr>\n",
       "      <th>max_depth 7</th>\n",
       "      <td>0.182406</td>\n",
       "      <td>0.258659</td>\n",
       "      <td>0.340103</td>\n",
       "      <td>0.252478</td>\n",
       "    </tr>\n",
       "    <tr>\n",
       "      <th>max_depth 8</th>\n",
       "      <td>0.108477</td>\n",
       "      <td>0.207647</td>\n",
       "      <td>0.262238</td>\n",
       "      <td>0.262231</td>\n",
       "    </tr>\n",
       "  </tbody>\n",
       "</table>\n",
       "</div>"
      ],
      "text/plain": [
       "             n_estimators10  n_estimators15  n_estimators20  n_estimators25\n",
       "max_depth 2        0.221240        0.239358        0.214771        0.261951\n",
       "max_depth 3        0.172095        0.235437        0.195889        0.220344\n",
       "max_depth 4        0.219720        0.169957        0.273615        0.275679\n",
       "max_depth 5        0.263403        0.191213        0.233267        0.285240\n",
       "max_depth 6        0.172318        0.225510        0.278094        0.288712\n",
       "max_depth 7        0.182406        0.258659        0.340103        0.252478\n",
       "max_depth 8        0.108477        0.207647        0.262238        0.262231"
      ]
     },
     "execution_count": 127,
     "metadata": {},
     "output_type": "execute_result"
    }
   ],
   "source": [
    "regr = RandomForestRegressor()\n",
    "\n",
    "grid_value = {'n_estimators': [10, 15,20,25],\n",
    "              'max_depth':[2, 3, 4, 5, 6, 7, 8]}\n",
    "\n",
    "grid_r2 = GridSearchCV(regr, param_grid = grid_value, scoring = \"r2\", cv = 3)\n",
    "grid_r2.fit(X_train, y_train)\n",
    "result = grid_r2.cv_results_\n",
    "    \n",
    "n_estimators10 = []\n",
    "n_estimators15 =[]\n",
    "n_estimators20 = []\n",
    "n_estimators25 =[]\n",
    "    \n",
    "for m in [0,4,8,12,16,20,24]:\n",
    "    n_estimators10.append(result[\"mean_test_score\"][m])\n",
    "\n",
    "    n_estimators15.append(result[\"mean_test_score\"][m+1])\n",
    "\n",
    "    n_estimators20.append(result[\"mean_test_score\"][m+2])\n",
    "\n",
    "    n_estimators25.append(result[\"mean_test_score\"][m+3])\n",
    "        \n",
    "df_result = pd.DataFrame({\"n_estimators10\":n_estimators10, \"n_estimators15\":n_estimators15,\n",
    "                          \"n_estimators20\":n_estimators20, \"n_estimators25\":n_estimators25}, \n",
    "                         index = [\"max_depth 2\", \"max_depth 3\",\"max_depth 4\", \"max_depth 5\", \"max_depth 6\", \"max_depth 7\", \"max_depth 8\"] )\n",
    "df_result"
   ]
  },
  {
   "cell_type": "code",
   "execution_count": 128,
   "metadata": {},
   "outputs": [],
   "source": [
    "import seaborn as sns  # data visualization library"
   ]
  },
  {
   "cell_type": "code",
   "execution_count": 129,
   "metadata": {},
   "outputs": [
    {
     "data": {
      "text/plain": [
       "<AxesSubplot:>"
      ]
     },
     "execution_count": 129,
     "metadata": {},
     "output_type": "execute_result"
    },
    {
     "data": {
      "image/png": "[encoded data removed]",
      "text/plain": [
       "<Figure size 1008x720 with 2 Axes>"
      ]
     },
     "metadata": {
      "needs_background": "light"
     },
     "output_type": "display_data"
    }
   ],
   "source": [
    "f, ax = plt.subplots(figsize = (14, 10))\n",
    "sns.heatmap(df_result, annot = True, linewidth = 0.5, ax=ax,cmap='coolwarm')"
   ]
  },
  {
   "cell_type": "markdown",
   "metadata": {},
   "source": [
    "## Using the parameters which have the best performance"
   ]
  },
  {
   "cell_type": "code",
   "execution_count": 130,
   "metadata": {},
   "outputs": [],
   "source": [
    "from sklearn.ensemble import RandomForestRegressor"
   ]
  },
  {
   "cell_type": "code",
   "execution_count": 135,
   "metadata": {},
   "outputs": [
    {
     "name": "stdout",
     "output_type": "stream",
     "text": [
      "r-squared training: 0.87, \n",
      "r-squared test: 0.38\n",
      "\n"
     ]
    }
   ],
   "source": [
    "regr = RandomForestRegressor(max_depth=7, n_estimators = 20,random_state=0).fit(X_train, y_train)\n",
    "train_score = regr.score(X_train,y_train)\n",
    "test_score = regr.score(X_test,y_test)\n",
    "\n",
    "print('r-squared training: {:.2f}, \\nr-squared test: {:.2f}\\n'\n",
    "         .format(train_score, test_score))"
   ]
  },
  {
   "cell_type": "markdown",
   "metadata": {},
   "source": []
  },
  {
   "cell_type": "markdown",
   "metadata": {},
   "source": [
    "# Linear models for regression"
   ]
  },
  {
   "cell_type": "markdown",
   "metadata": {},
   "source": [
    "## Linear regression"
   ]
  },
  {
   "cell_type": "code",
   "execution_count": 136,
   "metadata": {},
   "outputs": [],
   "source": [
    "from sklearn.linear_model import LinearRegression\n",
    "from sklearn.model_selection import cross_val_score"
   ]
  },
  {
   "cell_type": "code",
   "execution_count": 137,
   "metadata": {},
   "outputs": [
    {
     "name": "stdout",
     "output_type": "stream",
     "text": [
      "linear model coeff (w): [ 5.62159657e-01  1.36124029e-01  2.80893756e+00  7.02267496e+00\n",
      " -1.23158646e-03 -1.29020111e-03 -1.00116502e+00  9.04183586e-02\n",
      "  4.82658022e-02  1.12076530e+00 -1.26872207e-02  2.60027533e-02\n",
      "  5.85538763e+06  5.85538761e+06  1.24349947e-02  1.16736539e-02]\n",
      "linear model intercept (b): -5855391.963606423\n",
      "R-squared score (training): 0.635\n",
      "R-squared score (test): 0.197\n"
     ]
    }
   ],
   "source": [
    "linreg = LinearRegression().fit(X_train, y_train)\n",
    "linreg_score_train = linreg.score(X_train, y_train)\n",
    "linreg_score_test = linreg.score(X_test, y_test)\n",
    "\n",
    "print('linear model coeff (w): {}'.format(linreg.coef_))\n",
    "print('linear model intercept (b): {}'.format(str(linreg.intercept_)))\n",
    "print('R-squared score (training): {:.3f}'.format(linreg_score_train))\n",
    "print('R-squared score (test): {:.3f}'.format(linreg_score_test))\n"
   ]
  },
  {
   "cell_type": "markdown",
   "metadata": {},
   "source": [
    "### Cross-validation"
   ]
  },
  {
   "cell_type": "code",
   "execution_count": 138,
   "metadata": {},
   "outputs": [
    {
     "name": "stdout",
     "output_type": "stream",
     "text": [
      "mean R-squared score -0.03222311513284948\n"
     ]
    },
    {
     "data": {
      "text/plain": [
       "array([-0.86319164, -0.08141809,  0.0483091 ,  0.27496999,  0.46021506])"
      ]
     },
     "execution_count": 138,
     "metadata": {},
     "output_type": "execute_result"
    }
   ],
   "source": [
    "from sklearn.model_selection import cross_val_score\n",
    "\n",
    "linreg = LinearRegression()\n",
    "cv_scores = cross_val_score(linreg,X_train,y_train,cv=5,scoring =\"r2\")\n",
    "print(\"mean R-squared score\", np.mean(cv_scores))\n",
    "cv_scores"
   ]
  },
  {
   "cell_type": "markdown",
   "metadata": {},
   "source": [
    "## Ridge regression with feature normalization"
   ]
  },
  {
   "cell_type": "markdown",
   "metadata": {},
   "source": [
    "### Cross-validation"
   ]
  },
  {
   "cell_type": "code",
   "execution_count": 149,
   "metadata": {},
   "outputs": [
    {
     "data": {
      "text/plain": [
       "[-0.03500302171354086,\n",
       " 0.05613701747066737,\n",
       " 0.176506484426877,\n",
       " 0.2255957904052658,\n",
       " 0.24835867053179098,\n",
       " 0.25650189006047086]"
      ]
     },
     "execution_count": 149,
     "metadata": {},
     "output_type": "execute_result"
    }
   ],
   "source": [
    "from sklearn.linear_model import Ridge\n",
    "from sklearn.preprocessing import MinMaxScaler\n",
    "\n",
    "scaler = MinMaxScaler()\n",
    "X_train_scaled = scaler.fit_transform(X_train)\n",
    "X_test_scaled = scaler.transform(X_test)\n",
    "\n",
    "my_alpha1 =  [0, 0.01, 0.1, 0.25, 0.5, 1]\n",
    "cv_scores_mean1 = []\n",
    "for this_alpha in my_alpha1:\n",
    "    linridge = Ridge(alpha=this_alpha, max_iter = 20000)\n",
    "    cv_scores = cross_val_score(linridge,X_train_scaled,y_train,cv=5,scoring =\"r2\")\n",
    "    cv_scores_mean1.append(np.mean(cv_scores))\n",
    "\n",
    "#print(\"mean R-squared score\", np.mean(cv_scores))\n",
    "cv_scores_mean1"
   ]
  },
  {
   "cell_type": "code",
   "execution_count": 150,
   "metadata": {},
   "outputs": [
    {
     "data": {
      "image/png": "[encoded data removed]",
      "text/plain": [
       "<Figure size 1152x576 with 1 Axes>"
      ]
     },
     "metadata": {
      "needs_background": "light"
     },
     "output_type": "display_data"
    }
   ],
   "source": [
    "%matplotlib inline\n",
    "plt.figure(figsize=(16, 8))\n",
    "plt.plot(my_alpha1, cv_scores_mean1, '-o')\n",
    "plt.xlabel(\"alpha\")\n",
    "plt.ylabel(\"Scores\")\n",
    "plt.show()"
   ]
  },
  {
   "cell_type": "code",
   "execution_count": 151,
   "metadata": {},
   "outputs": [
    {
     "data": {
      "text/plain": [
       "[0.25650189006047086,\n",
       " 0.2565685262068947,\n",
       " 0.25641396248310777,\n",
       " 0.25627029520189754,\n",
       " 0.25506542075450733,\n",
       " 0.25330606374558157,\n",
       " 0.25120344807416817,\n",
       " 0.2411641977400433,\n",
       " 0.23022641634394597,\n",
       " 0.21924498208579796]"
      ]
     },
     "execution_count": 151,
     "metadata": {},
     "output_type": "execute_result"
    }
   ],
   "source": [
    "scaler = MinMaxScaler()\n",
    "X_train_scaled = scaler.fit_transform(X_train)\n",
    "X_test_scaled = scaler.transform(X_test)\n",
    "\n",
    "my_alpha2 =  [1, 1.1,1.2, 1.25, 1.5, 1.75, 2, 3,4, 5]\n",
    "cv_scores_mean2 = []\n",
    "for this_alpha in my_alpha2:\n",
    "    linridge = Ridge(alpha=this_alpha, max_iter = 20000)\n",
    "    cv_scores = cross_val_score(linridge,X_train_scaled,y_train,cv=5,scoring =\"r2\")\n",
    "    cv_scores_mean2.append(np.mean(cv_scores))\n",
    "cv_scores_mean2"
   ]
  },
  {
   "cell_type": "code",
   "execution_count": 152,
   "metadata": {},
   "outputs": [
    {
     "data": {
      "image/png": "[encoded data removed]",
      "text/plain": [
       "<Figure size 1152x576 with 1 Axes>"
      ]
     },
     "metadata": {
      "needs_background": "light"
     },
     "output_type": "display_data"
    }
   ],
   "source": [
    "%matplotlib inline\n",
    "plt.figure(figsize=(16, 8))\n",
    "plt.plot(my_alpha2, cv_scores_mean2, '-o')\n",
    "plt.xlabel(\"alpha\")\n",
    "plt.ylabel(\"Scores\")\n",
    "plt.show()"
   ]
  },
  {
   "cell_type": "markdown",
   "metadata": {},
   "source": [
    "## Using the parameters which have the best performance"
   ]
  },
  {
   "cell_type": "code",
   "execution_count": 153,
   "metadata": {},
   "outputs": [
    {
     "name": "stdout",
     "output_type": "stream",
     "text": [
      "ridge regression linear model intercept: -0.8351690981017822\n",
      "ridge regression linear model coeff:\n",
      "[ 0.25373556  0.2535777   0.41929628  0.65033858 -0.16091502 -0.17790736\n",
      " -0.60711508  0.58381536  0.24595363 -0.3065835  -0.15309684  0.21536127\n",
      " -0.29118565  0.29118575 -0.03196136 -0.09000049]\n",
      "R-squared score (training): 0.552\n",
      "R-squared score (test): 0.423\n",
      "Number of non-zero features: 16\n"
     ]
    }
   ],
   "source": [
    "from sklearn.linear_model import Ridge\n",
    "from sklearn.preprocessing import MinMaxScaler\n",
    "\n",
    "scaler = MinMaxScaler()\n",
    "X_train_scaled = scaler.fit_transform(X_train)\n",
    "X_test_scaled = scaler.transform(X_test)\n",
    "\n",
    "linridge = Ridge(alpha=1.1, max_iter = 20000).fit(X_train_scaled, y_train)\n",
    "\n",
    "print('ridge regression linear model intercept: {}'\n",
    "     .format(linridge.intercept_))\n",
    "print('ridge regression linear model coeff:\\n{}'\n",
    "     .format(linridge.coef_))\n",
    "print('R-squared score (training): {:.3f}'\n",
    "     .format(linridge.score(X_train_scaled, y_train)))\n",
    "print('R-squared score (test): {:.3f}'\n",
    "     .format(linridge.score(X_test_scaled, y_test)))\n",
    "print('Number of non-zero features: {}'\n",
    "     .format(np.sum(linridge.coef_ != 0)))"
   ]
  },
  {
   "cell_type": "code",
   "execution_count": null,
   "metadata": {},
   "outputs": [],
   "source": []
  },
  {
   "cell_type": "markdown",
   "metadata": {},
   "source": [
    "## Lasso regression"
   ]
  },
  {
   "cell_type": "markdown",
   "metadata": {},
   "source": [
    "## Cross-validation"
   ]
  },
  {
   "cell_type": "code",
   "execution_count": 154,
   "metadata": {},
   "outputs": [
    {
     "data": {
      "text/plain": [
       "[-0.04200806331974918,\n",
       " 0.13489151885783807,\n",
       " 0.19510676388601028,\n",
       " 0.22345747218573875,\n",
       " 0.20750292861308633,\n",
       " 0.18797199084784122,\n",
       " 0.16435659604066646,\n",
       " 0.148706613191886,\n",
       " 0.13821883029235243,\n",
       " 0.06171040715601124]"
      ]
     },
     "execution_count": 154,
     "metadata": {},
     "output_type": "execute_result"
    }
   ],
   "source": [
    "from sklearn.model_selection import cross_val_score\n",
    "from sklearn.linear_model import Lasso\n",
    "from sklearn.preprocessing import MinMaxScaler\n",
    "\n",
    "scaler = MinMaxScaler()\n",
    "X_train_scaled = scaler.fit_transform(X_train)\n",
    "X_test_scaled = scaler.transform(X_test)\n",
    "\n",
    "my_alpha1 =  [0.0001, 0.001,0.002,0.005, 0.006, 0.007, 0.008, 0.009, 0.01, 0.02]\n",
    "cv_scores_mean1 = []\n",
    "\n",
    "for this_alpha in my_alpha1:\n",
    "    lasso = Lasso(alpha = this_alpha, max_iter = 20000)\n",
    "    cv_scores = cross_val_score(lasso,X_train_scaled,y_train,cv=5,scoring =\"r2\")\n",
    "    cv_scores_mean1.append(np.mean(cv_scores))\n",
    "\n",
    "#print(\"mean R-squared score\", np.mean(cv_scores))\n",
    "cv_scores_mean1"
   ]
  },
  {
   "cell_type": "code",
   "execution_count": 155,
   "metadata": {},
   "outputs": [
    {
     "data": {
      "image/png": "[encoded data removed]",
      "text/plain": [
       "<Figure size 1152x576 with 1 Axes>"
      ]
     },
     "metadata": {
      "needs_background": "light"
     },
     "output_type": "display_data"
    }
   ],
   "source": [
    "%matplotlib inline\n",
    "plt.figure(figsize=(16, 8))\n",
    "plt.plot(my_alpha1, cv_scores_mean1, '-o')\n",
    "plt.xlabel(\"alpha\")\n",
    "plt.ylabel(\"Scores\")\n",
    "plt.show()"
   ]
  },
  {
   "cell_type": "markdown",
   "metadata": {},
   "source": [
    "## Using the parameters which have the best performance"
   ]
  },
  {
   "cell_type": "code",
   "execution_count": 156,
   "metadata": {},
   "outputs": [
    {
     "name": "stdout",
     "output_type": "stream",
     "text": [
      "lasso regression linear model intercept: -0.7651198083900852\n",
      "lasso regression linear model coeff:\n",
      "[ 4.29341811e-01  1.38179494e-01  7.96017210e-01  1.07657662e+00\n",
      " -2.01452641e-01 -0.00000000e+00 -1.09453284e+00  6.19221318e-01\n",
      "  2.87665306e-01 -1.54675173e-01 -0.00000000e+00  9.10410887e-03\n",
      " -7.42096690e-01  2.15717941e-06 -0.00000000e+00  0.00000000e+00]\n",
      "Non-zero features: 12\n",
      "R-squared score (training): 0.585\n",
      "R-squared score (test): 0.426\n",
      "\n",
      "Features with non-zero weight (sorted by absolute magnitude):\n",
      "\tstd_dim3, -1.095\n",
      "\tPEOE_RPC., 1.077\n",
      "\tnpr2, 0.796\n",
      "\tPEOE_VSA_FNEG, -0.742\n",
      "\tvsurf_DD23, 0.619\n",
      "\tBCUT_PEOE_1, 0.429\n",
      "\tvsurf_DW23, 0.288\n",
      "\tPEOE_VSA.1.1, -0.201\n",
      "\tvsurf_R, -0.155\n",
      "\th_logS, 0.138\n",
      "\ta_ICM, 0.009\n",
      "\tPEOE_VSA_FPOS, 0.000\n"
     ]
    }
   ],
   "source": [
    "from sklearn.linear_model import Lasso\n",
    "from sklearn.preprocessing import MinMaxScaler\n",
    "\n",
    "scaler = MinMaxScaler()\n",
    "\n",
    "X_train_scaled = scaler.fit_transform(X_train)\n",
    "X_test_scaled = scaler.transform(X_test)\n",
    "\n",
    "linlasso = Lasso(alpha=0.005, max_iter = 20000).fit(X_train_scaled, y_train)\n",
    "\n",
    "\n",
    "print('lasso regression linear model intercept: {}'\n",
    "     .format(linlasso.intercept_))\n",
    "print('lasso regression linear model coeff:\\n{}'\n",
    "     .format(linlasso.coef_))\n",
    "print('Non-zero features: {}'\n",
    "     .format(np.sum(linlasso.coef_ != 0)))\n",
    "print('R-squared score (training): {:.3f}'\n",
    "     .format(linlasso.score(X_train_scaled, y_train)))\n",
    "print('R-squared score (test): {:.3f}\\n'\n",
    "     .format(linlasso.score(X_test_scaled, y_test)))\n",
    "print('Features with non-zero weight (sorted by absolute magnitude):')\n",
    "\n",
    "for e in sorted (list(zip(list(X_train.columns), linlasso.coef_)),\n",
    "                key = lambda e: -abs(e[1])):\n",
    "    if e[1] != 0:\n",
    "        print('\\t{}, {:.3f}'.format(e[0], e[1]))"
   ]
  },
  {
   "cell_type": "code",
   "execution_count": null,
   "metadata": {},
   "outputs": [],
   "source": []
  },
  {
   "cell_type": "code",
   "execution_count": null,
   "metadata": {},
   "outputs": [],
   "source": []
  },
  {
   "cell_type": "markdown",
   "metadata": {},
   "source": [
    "## ElasticNet\n",
    "https://scikit-learn.org/stable/modules/generated/sklearn.linear_model.ElasticNet.html"
   ]
  },
  {
   "cell_type": "code",
   "execution_count": 157,
   "metadata": {},
   "outputs": [],
   "source": [
    "from sklearn.linear_model import ElasticNet\n",
    "from sklearn.model_selection import GridSearchCV\n",
    "from sklearn.preprocessing import MinMaxScaler\n",
    "\n",
    "scaler = MinMaxScaler()\n",
    "X_train_scaled = scaler.fit_transform(X_train)\n",
    "X_test_scaled = scaler.transform(X_test)\n"
   ]
  },
  {
   "cell_type": "code",
   "execution_count": 158,
   "metadata": {},
   "outputs": [
    {
     "data": {
      "text/html": [
       "<div>\n",
       "<style scoped>\n",
       "    .dataframe tbody tr th:only-of-type {\n",
       "        vertical-align: middle;\n",
       "    }\n",
       "\n",
       "    .dataframe tbody tr th {\n",
       "        vertical-align: top;\n",
       "    }\n",
       "\n",
       "    .dataframe thead th {\n",
       "        text-align: right;\n",
       "    }\n",
       "</style>\n",
       "<table border=\"1\" class=\"dataframe\">\n",
       "  <thead>\n",
       "    <tr style=\"text-align: right;\">\n",
       "      <th></th>\n",
       "      <th>l1_ratio_01</th>\n",
       "      <th>l1_ratio_03</th>\n",
       "      <th>l1_ratio_05</th>\n",
       "      <th>l1_ratio_07</th>\n",
       "      <th>l1_ratio_09</th>\n",
       "    </tr>\n",
       "  </thead>\n",
       "  <tbody>\n",
       "    <tr>\n",
       "      <th>alpha 0.01</th>\n",
       "      <td>0.339757</td>\n",
       "      <td>0.338270</td>\n",
       "      <td>0.325166</td>\n",
       "      <td>0.307436</td>\n",
       "      <td>0.298288</td>\n",
       "    </tr>\n",
       "    <tr>\n",
       "      <th>alpha 0.02</th>\n",
       "      <td>0.326461</td>\n",
       "      <td>0.301410</td>\n",
       "      <td>0.280214</td>\n",
       "      <td>0.251208</td>\n",
       "      <td>0.221270</td>\n",
       "    </tr>\n",
       "    <tr>\n",
       "      <th>alpha 0.03</th>\n",
       "      <td>0.221270</td>\n",
       "      <td>0.312258</td>\n",
       "      <td>0.280315</td>\n",
       "      <td>0.240212</td>\n",
       "      <td>0.201894</td>\n",
       "    </tr>\n",
       "    <tr>\n",
       "      <th>alpha 0.05</th>\n",
       "      <td>0.201894</td>\n",
       "      <td>0.164517</td>\n",
       "      <td>0.295636</td>\n",
       "      <td>0.240468</td>\n",
       "      <td>0.175344</td>\n",
       "    </tr>\n",
       "    <tr>\n",
       "      <th>alpha 0.07</th>\n",
       "      <td>0.175344</td>\n",
       "      <td>0.113453</td>\n",
       "      <td>0.068538</td>\n",
       "      <td>0.278599</td>\n",
       "      <td>0.199482</td>\n",
       "    </tr>\n",
       "    <tr>\n",
       "      <th>alpha 0.08</th>\n",
       "      <td>0.199482</td>\n",
       "      <td>0.115604</td>\n",
       "      <td>0.050824</td>\n",
       "      <td>-0.007026</td>\n",
       "      <td>0.269557</td>\n",
       "    </tr>\n",
       "    <tr>\n",
       "      <th>alpha 0.09</th>\n",
       "      <td>0.269557</td>\n",
       "      <td>0.180355</td>\n",
       "      <td>0.091892</td>\n",
       "      <td>0.016598</td>\n",
       "      <td>-0.019674</td>\n",
       "    </tr>\n",
       "  </tbody>\n",
       "</table>\n",
       "</div>"
      ],
      "text/plain": [
       "            l1_ratio_01  l1_ratio_03  l1_ratio_05  l1_ratio_07  l1_ratio_09\n",
       "alpha 0.01     0.339757     0.338270     0.325166     0.307436     0.298288\n",
       "alpha 0.02     0.326461     0.301410     0.280214     0.251208     0.221270\n",
       "alpha 0.03     0.221270     0.312258     0.280315     0.240212     0.201894\n",
       "alpha 0.05     0.201894     0.164517     0.295636     0.240468     0.175344\n",
       "alpha 0.07     0.175344     0.113453     0.068538     0.278599     0.199482\n",
       "alpha 0.08     0.199482     0.115604     0.050824    -0.007026     0.269557\n",
       "alpha 0.09     0.269557     0.180355     0.091892     0.016598    -0.019674"
      ]
     },
     "execution_count": 158,
     "metadata": {},
     "output_type": "execute_result"
    }
   ],
   "source": [
    "elastic = ElasticNet()\n",
    "\n",
    "grid_value = {'l1_ratio': [0.1, 0.3,0.5,0.7,0.9],\n",
    "              'alpha':[0.01, 0.02, 0.03, 0.05,0.07,0.08, 0.9]}\n",
    "\n",
    "\n",
    "grid_r2 = GridSearchCV(elastic, param_grid = grid_value, scoring = \"r2\", cv = 3)\n",
    "grid_r2.fit(X_train_scaled, y_train)\n",
    "result = grid_r2.cv_results_\n",
    "\n",
    "l1_ratio_01 = []\n",
    "l1_ratio_03 = []\n",
    "l1_ratio_05 = []\n",
    "l1_ratio_07 = []\n",
    "l1_ratio_09 = []\n",
    "    \n",
    "for m in [0,5,9,13,17,21,25]:\n",
    "    l1_ratio_01.append(result[\"mean_test_score\"][m])\n",
    "    l1_ratio_03.append(result[\"mean_test_score\"][m+1])\n",
    "    l1_ratio_05.append(result[\"mean_test_score\"][m+2])\n",
    "    l1_ratio_07.append(result[\"mean_test_score\"][m+3])\n",
    "    l1_ratio_09.append(result[\"mean_test_score\"][m+4])\n",
    "        \n",
    "df_result = pd.DataFrame({\"l1_ratio_01\":l1_ratio_01, \"l1_ratio_03\":l1_ratio_03,\n",
    "                         \"l1_ratio_05\":l1_ratio_05,\"l1_ratio_07\":l1_ratio_07,\"l1_ratio_09\":l1_ratio_09}, \n",
    "                         index = [\"alpha 0.01\", \"alpha 0.02\",\"alpha 0.03\",\"alpha 0.05\", \"alpha 0.07\",\"alpha 0.08\",\"alpha 0.09\"] )\n",
    "df_result"
   ]
  },
  {
   "cell_type": "code",
   "execution_count": 159,
   "metadata": {},
   "outputs": [],
   "source": [
    "import seaborn as sns  # data visualization library"
   ]
  },
  {
   "cell_type": "code",
   "execution_count": 160,
   "metadata": {},
   "outputs": [
    {
     "data": {
      "text/plain": [
       "<AxesSubplot:>"
      ]
     },
     "execution_count": 160,
     "metadata": {},
     "output_type": "execute_result"
    },
    {
     "data": {
      "image/png": "[encoded data removed]",
      "text/plain": [
       "<Figure size 1008x720 with 2 Axes>"
      ]
     },
     "metadata": {
      "needs_background": "light"
     },
     "output_type": "display_data"
    }
   ],
   "source": [
    "f, ax = plt.subplots(figsize = (14, 10))\n",
    "sns.heatmap(df_result, annot = True, linewidth = 0.5, ax=ax,cmap='coolwarm')"
   ]
  },
  {
   "cell_type": "markdown",
   "metadata": {},
   "source": [
    "## Using the parameters which have the best performance"
   ]
  },
  {
   "cell_type": "code",
   "execution_count": 164,
   "metadata": {},
   "outputs": [
    {
     "name": "stdout",
     "output_type": "stream",
     "text": [
      "R-squared score (training): 0.570\n",
      "R-squared score (test): 0.428\n"
     ]
    }
   ],
   "source": [
    "scaler = MinMaxScaler()\n",
    "X_train_scaled = scaler.fit_transform(X_train)\n",
    "X_test_scaled = scaler.transform(X_test)\n",
    "\n",
    "elastic = ElasticNet(l1_ratio = 0.02, alpha = 0.01, random_state=0).fit(X_train_scaled, y_train)\n",
    "\n",
    "print('R-squared score (training): {:.3f}'\n",
    "     .format(elastic.score(X_train_scaled, y_train)))\n",
    "print('R-squared score (test): {:.3f}'\n",
    "     .format(elastic.score(X_test_scaled, y_test)))\n"
   ]
  },
  {
   "cell_type": "code",
   "execution_count": null,
   "metadata": {},
   "outputs": [],
   "source": []
  },
  {
   "cell_type": "markdown",
   "metadata": {},
   "source": [
    "## Partial least squares"
   ]
  },
  {
   "cell_type": "markdown",
   "metadata": {},
   "source": [
    "### Cross Validation"
   ]
  },
  {
   "cell_type": "code",
   "execution_count": 165,
   "metadata": {},
   "outputs": [],
   "source": [
    "from sklearn.cross_decomposition import PLSRegression"
   ]
  },
  {
   "cell_type": "code",
   "execution_count": 166,
   "metadata": {},
   "outputs": [
    {
     "data": {
      "text/plain": [
       "[0.18597381168051247,\n",
       " 0.22105360862044318,\n",
       " 0.17187510492230232,\n",
       " 0.12111703348575956,\n",
       " 0.13544708376443948]"
      ]
     },
     "execution_count": 166,
     "metadata": {},
     "output_type": "execute_result"
    }
   ],
   "source": [
    "my_n_component =  [2,3,4,5,6]\n",
    "cv_scores_mean = []\n",
    "\n",
    "for this_n in my_n_component:\n",
    "    plsReg = PLSRegression(n_components=this_n)\n",
    "    cv_scores = cross_val_score(plsReg,X_train,y_train,cv=5,scoring =\"r2\")\n",
    "    cv_scores_mean.append(np.mean(cv_scores))\n",
    "\n",
    "#print(\"mean R-squared score\", np.mean(cv_scores))\n",
    "cv_scores_mean"
   ]
  },
  {
   "cell_type": "code",
   "execution_count": 167,
   "metadata": {},
   "outputs": [
    {
     "data": {
      "image/png": "[encoded data removed]",
      "text/plain": [
       "<Figure size 1152x576 with 1 Axes>"
      ]
     },
     "metadata": {
      "needs_background": "light"
     },
     "output_type": "display_data"
    }
   ],
   "source": [
    "%matplotlib inline\n",
    "plt.figure(figsize=(16, 8))\n",
    "plt.plot(my_n_component, cv_scores_mean, '-o')\n",
    "plt.xlabel(\"n_component\")\n",
    "plt.ylabel(\"Scores\")\n",
    "plt.show()"
   ]
  },
  {
   "cell_type": "markdown",
   "metadata": {},
   "source": [
    "## Using the parameters which have the best performance"
   ]
  },
  {
   "cell_type": "code",
   "execution_count": 168,
   "metadata": {},
   "outputs": [
    {
     "name": "stdout",
     "output_type": "stream",
     "text": [
      "R-squared score (training): 0.537\n",
      "R-squared score (test): 0.397\n"
     ]
    }
   ],
   "source": [
    "plsReg = PLSRegression(n_components=3).fit(X_train,y_train)\n",
    "\n",
    "print('R-squared score (training): {:.3f}'\n",
    "     .format(plsReg.score(X_train, y_train)))\n",
    "print('R-squared score (test): {:.3f}'\n",
    "     .format(plsReg.score(X_test, y_test)))"
   ]
  },
  {
   "cell_type": "markdown",
   "metadata": {},
   "source": [
    "## Polynomial regression"
   ]
  },
  {
   "cell_type": "code",
   "execution_count": 169,
   "metadata": {},
   "outputs": [],
   "source": [
    "from sklearn.linear_model import LinearRegression\n",
    "from sklearn.preprocessing import PolynomialFeatures"
   ]
  },
  {
   "cell_type": "code",
   "execution_count": 170,
   "metadata": {},
   "outputs": [],
   "source": [
    "from sklearn.preprocessing import MinMaxScaler\n",
    "\n",
    "scaler = MinMaxScaler()\n",
    "\n",
    "X_train_scaled = scaler.fit_transform(X_train)\n",
    "X_test_scaled = scaler.transform(X_test)"
   ]
  },
  {
   "cell_type": "code",
   "execution_count": 171,
   "metadata": {},
   "outputs": [
    {
     "data": {
      "text/html": [
       "<div>\n",
       "<style scoped>\n",
       "    .dataframe tbody tr th:only-of-type {\n",
       "        vertical-align: middle;\n",
       "    }\n",
       "\n",
       "    .dataframe tbody tr th {\n",
       "        vertical-align: top;\n",
       "    }\n",
       "\n",
       "    .dataframe thead th {\n",
       "        text-align: right;\n",
       "    }\n",
       "</style>\n",
       "<table border=\"1\" class=\"dataframe\">\n",
       "  <thead>\n",
       "    <tr style=\"text-align: right;\">\n",
       "      <th></th>\n",
       "      <th>Training Scores</th>\n",
       "      <th>Test Scores</th>\n",
       "    </tr>\n",
       "  </thead>\n",
       "  <tbody>\n",
       "    <tr>\n",
       "      <th>1</th>\n",
       "      <td>0.634591</td>\n",
       "      <td>0.196939</td>\n",
       "    </tr>\n",
       "    <tr>\n",
       "      <th>2</th>\n",
       "      <td>1.000000</td>\n",
       "      <td>-16.344596</td>\n",
       "    </tr>\n",
       "    <tr>\n",
       "      <th>3</th>\n",
       "      <td>1.000000</td>\n",
       "      <td>-8.882067</td>\n",
       "    </tr>\n",
       "    <tr>\n",
       "      <th>4</th>\n",
       "      <td>1.000000</td>\n",
       "      <td>-6.666428</td>\n",
       "    </tr>\n",
       "  </tbody>\n",
       "</table>\n",
       "</div>"
      ],
      "text/plain": [
       "   Training Scores  Test Scores\n",
       "1         0.634591     0.196939\n",
       "2         1.000000   -16.344596\n",
       "3         1.000000    -8.882067\n",
       "4         1.000000    -6.666428"
      ]
     },
     "execution_count": 171,
     "metadata": {},
     "output_type": "execute_result"
    }
   ],
   "source": [
    "myDegrees = [1,2,3,4]\n",
    "\n",
    "r2_train = np.zeros((4,))\n",
    "r2_test = np.zeros((4,))\n",
    "\n",
    "for i in range(len(myDegrees)):\n",
    "    poly = PolynomialFeatures(degree = myDegrees[i])      \n",
    "    X_train_poly = poly.fit_transform(X_train_scaled)\n",
    "    reg = LinearRegression().fit(X_train_poly, y_train)\n",
    "    \n",
    "    X_test_ploy = poly.fit_transform(X_test_scaled)                        \n",
    "    r2_test[i] =  reg.score(X_test_ploy, y_test)\n",
    "             \n",
    "    r2_train[i] = reg.score(X_train_poly, y_train)\n",
    "\n",
    "df_score = pd.DataFrame({\"Training Scores\": list(r2_train),\n",
    "                        \"Test Scores\": list(r2_test)}, index = myDegrees)\n",
    "    \n",
    "df_score"
   ]
  },
  {
   "cell_type": "markdown",
   "metadata": {},
   "source": [
    "### Conclusion: Polynomial regression model did not performe well (overfitting)."
   ]
  },
  {
   "cell_type": "markdown",
   "metadata": {},
   "source": [
    "## Neural networks: Regression"
   ]
  },
  {
   "cell_type": "code",
   "execution_count": 172,
   "metadata": {},
   "outputs": [],
   "source": [
    "from sklearn.neural_network import MLPRegressor\n",
    "from sklearn.preprocessing import MinMaxScaler\n",
    "\n",
    "scaler = MinMaxScaler()\n",
    "\n",
    "X_train_scaled = scaler.fit_transform(X_train)\n",
    "X_test_scaled = scaler.transform(X_test)"
   ]
  },
  {
   "cell_type": "markdown",
   "metadata": {},
   "source": [
    "### Try 1 hidden layer with 2 hidden unit"
   ]
  },
  {
   "cell_type": "code",
   "execution_count": 173,
   "metadata": {},
   "outputs": [
    {
     "data": {
      "text/html": [
       "<div>\n",
       "<style scoped>\n",
       "    .dataframe tbody tr th:only-of-type {\n",
       "        vertical-align: middle;\n",
       "    }\n",
       "\n",
       "    .dataframe tbody tr th {\n",
       "        vertical-align: top;\n",
       "    }\n",
       "\n",
       "    .dataframe thead th {\n",
       "        text-align: right;\n",
       "    }\n",
       "</style>\n",
       "<table border=\"1\" class=\"dataframe\">\n",
       "  <thead>\n",
       "    <tr style=\"text-align: right;\">\n",
       "      <th></th>\n",
       "      <th>train scores (tanh)</th>\n",
       "      <th>test score (tanh)</th>\n",
       "      <th>train scores (relu)</th>\n",
       "      <th>test score (relu)</th>\n",
       "    </tr>\n",
       "  </thead>\n",
       "  <tbody>\n",
       "    <tr>\n",
       "      <th>alpha 0.1</th>\n",
       "      <td>0.730575</td>\n",
       "      <td>0.384663</td>\n",
       "      <td>6.077056e-01</td>\n",
       "      <td>0.327246</td>\n",
       "    </tr>\n",
       "    <tr>\n",
       "      <th>alpha 1.0</th>\n",
       "      <td>0.582545</td>\n",
       "      <td>0.435551</td>\n",
       "      <td>5.901148e-01</td>\n",
       "      <td>0.407524</td>\n",
       "    </tr>\n",
       "    <tr>\n",
       "      <th>alpha 2.0</th>\n",
       "      <td>0.533377</td>\n",
       "      <td>0.422577</td>\n",
       "      <td>-9.625012e-11</td>\n",
       "      <td>-0.034321</td>\n",
       "    </tr>\n",
       "    <tr>\n",
       "      <th>alpha 5.0</th>\n",
       "      <td>0.422021</td>\n",
       "      <td>0.325646</td>\n",
       "      <td>4.357018e-01</td>\n",
       "      <td>0.324654</td>\n",
       "    </tr>\n",
       "    <tr>\n",
       "      <th>alpha 6.0</th>\n",
       "      <td>0.385439</td>\n",
       "      <td>0.290074</td>\n",
       "      <td>4.027142e-01</td>\n",
       "      <td>0.293139</td>\n",
       "    </tr>\n",
       "    <tr>\n",
       "      <th>alpha 7.0</th>\n",
       "      <td>0.348361</td>\n",
       "      <td>0.255061</td>\n",
       "      <td>3.682428e-01</td>\n",
       "      <td>0.261920</td>\n",
       "    </tr>\n",
       "    <tr>\n",
       "      <th>alpha 8.0</th>\n",
       "      <td>0.310434</td>\n",
       "      <td>0.220556</td>\n",
       "      <td>3.323245e-01</td>\n",
       "      <td>0.230512</td>\n",
       "    </tr>\n",
       "    <tr>\n",
       "      <th>alpha 9.0</th>\n",
       "      <td>0.252174</td>\n",
       "      <td>0.174666</td>\n",
       "      <td>2.942829e-01</td>\n",
       "      <td>0.198743</td>\n",
       "    </tr>\n",
       "    <tr>\n",
       "      <th>alpha 10.0</th>\n",
       "      <td>0.212721</td>\n",
       "      <td>0.140163</td>\n",
       "      <td>2.539968e-01</td>\n",
       "      <td>0.165908</td>\n",
       "    </tr>\n",
       "  </tbody>\n",
       "</table>\n",
       "</div>"
      ],
      "text/plain": [
       "            train scores (tanh)   test score (tanh)  train scores (relu)   \\\n",
       "alpha 0.1               0.730575           0.384663          6.077056e-01   \n",
       "alpha 1.0               0.582545           0.435551          5.901148e-01   \n",
       "alpha 2.0               0.533377           0.422577         -9.625012e-11   \n",
       "alpha 5.0               0.422021           0.325646          4.357018e-01   \n",
       "alpha 6.0               0.385439           0.290074          4.027142e-01   \n",
       "alpha 7.0               0.348361           0.255061          3.682428e-01   \n",
       "alpha 8.0               0.310434           0.220556          3.323245e-01   \n",
       "alpha 9.0               0.252174           0.174666          2.942829e-01   \n",
       "alpha 10.0              0.212721           0.140163          2.539968e-01   \n",
       "\n",
       "            test score (relu)  \n",
       "alpha 0.1            0.327246  \n",
       "alpha 1.0            0.407524  \n",
       "alpha 2.0           -0.034321  \n",
       "alpha 5.0            0.324654  \n",
       "alpha 6.0            0.293139  \n",
       "alpha 7.0            0.261920  \n",
       "alpha 8.0            0.230512  \n",
       "alpha 9.0            0.198743  \n",
       "alpha 10.0           0.165908  "
      ]
     },
     "execution_count": 173,
     "metadata": {},
     "output_type": "execute_result"
    }
   ],
   "source": [
    "r2_train = []\n",
    "r2_test = []\n",
    "param = []\n",
    "\n",
    "for thisactivation in ['tanh', 'relu']:\n",
    "    for thisalpha in [0.1, 1.0, 2.0, 5.0, 6.0, 7.0, 8.0, 9.0,10]:\n",
    "        mlpreg = MLPRegressor(hidden_layer_sizes = [2],\n",
    "                             activation = thisactivation,\n",
    "                             alpha = thisalpha,\n",
    "                             solver = 'lbfgs',\n",
    "                              max_iter = 20000).fit(X_train_scaled, y_train)\n",
    "        train_score = mlpreg.score(X_train_scaled,y_train)\n",
    "        test_score =  mlpreg.score(X_test_scaled,y_test)\n",
    "        r2_train.append(train_score)\n",
    "        r2_test.append(test_score)\n",
    "        param.append(thisactivation+str(thisalpha))\n",
    "\n",
    "tanh_list_train = r2_train[0:9]\n",
    "tanh_list_test = r2_test[0:9]\n",
    "relu_list_train = r2_train[9:]\n",
    "relu_list_test = r2_test[9:]    \n",
    "\n",
    "df_result = pd.DataFrame({\"train scores (tanh) \":tanh_list_train, \"test score (tanh)\":tanh_list_test,\n",
    "                          \"train scores (relu) \":relu_list_train, \"test score (relu)\":relu_list_test}, \n",
    "                         index = [\"alpha 0.1\",\"alpha 1.0\",\"alpha 2.0\",\"alpha 5.0\",\"alpha 6.0\",\"alpha 7.0\",\"alpha 8.0\",\"alpha 9.0\", \"alpha 10.0\"] )\n",
    "df_result"
   ]
  },
  {
   "cell_type": "code",
   "execution_count": 174,
   "metadata": {},
   "outputs": [
    {
     "data": {
      "text/plain": [
       "<AxesSubplot:>"
      ]
     },
     "execution_count": 174,
     "metadata": {},
     "output_type": "execute_result"
    },
    {
     "data": {
      "image/png": "[encoded data removed]",
      "text/plain": [
       "<Figure size 1008x720 with 2 Axes>"
      ]
     },
     "metadata": {
      "needs_background": "light"
     },
     "output_type": "display_data"
    }
   ],
   "source": [
    "f, ax = plt.subplots(figsize = (14, 10))\n",
    "sns.heatmap(df_result, annot = True, linewidth = 0.5, ax=ax,cmap='coolwarm')"
   ]
  },
  {
   "cell_type": "markdown",
   "metadata": {},
   "source": [
    "## Try 1 hidden layer with 3 hidden unit"
   ]
  },
  {
   "cell_type": "code",
   "execution_count": 175,
   "metadata": {},
   "outputs": [
    {
     "data": {
      "text/html": [
       "<div>\n",
       "<style scoped>\n",
       "    .dataframe tbody tr th:only-of-type {\n",
       "        vertical-align: middle;\n",
       "    }\n",
       "\n",
       "    .dataframe tbody tr th {\n",
       "        vertical-align: top;\n",
       "    }\n",
       "\n",
       "    .dataframe thead th {\n",
       "        text-align: right;\n",
       "    }\n",
       "</style>\n",
       "<table border=\"1\" class=\"dataframe\">\n",
       "  <thead>\n",
       "    <tr style=\"text-align: right;\">\n",
       "      <th></th>\n",
       "      <th>train scores (tanh)</th>\n",
       "      <th>test score (tanh)</th>\n",
       "      <th>train scores (relu)</th>\n",
       "      <th>test score (relu)</th>\n",
       "    </tr>\n",
       "  </thead>\n",
       "  <tbody>\n",
       "    <tr>\n",
       "      <th>alpha 0.1</th>\n",
       "      <td>0.853992</td>\n",
       "      <td>-0.492679</td>\n",
       "      <td>0.636067</td>\n",
       "      <td>0.329052</td>\n",
       "    </tr>\n",
       "    <tr>\n",
       "      <th>alpha 1.0</th>\n",
       "      <td>0.577670</td>\n",
       "      <td>0.436095</td>\n",
       "      <td>0.589959</td>\n",
       "      <td>0.407443</td>\n",
       "    </tr>\n",
       "    <tr>\n",
       "      <th>alpha 2.0</th>\n",
       "      <td>0.533082</td>\n",
       "      <td>0.422942</td>\n",
       "      <td>0.533899</td>\n",
       "      <td>0.413507</td>\n",
       "    </tr>\n",
       "    <tr>\n",
       "      <th>alpha 5.0</th>\n",
       "      <td>0.426484</td>\n",
       "      <td>0.325699</td>\n",
       "      <td>0.435685</td>\n",
       "      <td>0.324293</td>\n",
       "    </tr>\n",
       "    <tr>\n",
       "      <th>alpha 6.0</th>\n",
       "      <td>0.391004</td>\n",
       "      <td>0.291219</td>\n",
       "      <td>0.403001</td>\n",
       "      <td>0.293428</td>\n",
       "    </tr>\n",
       "    <tr>\n",
       "      <th>alpha 7.0</th>\n",
       "      <td>0.354878</td>\n",
       "      <td>0.257608</td>\n",
       "      <td>0.368354</td>\n",
       "      <td>0.261953</td>\n",
       "    </tr>\n",
       "    <tr>\n",
       "      <th>alpha 8.0</th>\n",
       "      <td>0.317492</td>\n",
       "      <td>0.224144</td>\n",
       "      <td>0.332363</td>\n",
       "      <td>0.230457</td>\n",
       "    </tr>\n",
       "    <tr>\n",
       "      <th>alpha 9.0</th>\n",
       "      <td>0.271511</td>\n",
       "      <td>0.186481</td>\n",
       "      <td>0.294176</td>\n",
       "      <td>0.198630</td>\n",
       "    </tr>\n",
       "    <tr>\n",
       "      <th>alpha 10.0</th>\n",
       "      <td>0.238678</td>\n",
       "      <td>0.156992</td>\n",
       "      <td>0.254082</td>\n",
       "      <td>0.165944</td>\n",
       "    </tr>\n",
       "  </tbody>\n",
       "</table>\n",
       "</div>"
      ],
      "text/plain": [
       "            train scores (tanh)   test score (tanh)  train scores (relu)   \\\n",
       "alpha 0.1               0.853992          -0.492679              0.636067   \n",
       "alpha 1.0               0.577670           0.436095              0.589959   \n",
       "alpha 2.0               0.533082           0.422942              0.533899   \n",
       "alpha 5.0               0.426484           0.325699              0.435685   \n",
       "alpha 6.0               0.391004           0.291219              0.403001   \n",
       "alpha 7.0               0.354878           0.257608              0.368354   \n",
       "alpha 8.0               0.317492           0.224144              0.332363   \n",
       "alpha 9.0               0.271511           0.186481              0.294176   \n",
       "alpha 10.0              0.238678           0.156992              0.254082   \n",
       "\n",
       "            test score (relu)  \n",
       "alpha 0.1            0.329052  \n",
       "alpha 1.0            0.407443  \n",
       "alpha 2.0            0.413507  \n",
       "alpha 5.0            0.324293  \n",
       "alpha 6.0            0.293428  \n",
       "alpha 7.0            0.261953  \n",
       "alpha 8.0            0.230457  \n",
       "alpha 9.0            0.198630  \n",
       "alpha 10.0           0.165944  "
      ]
     },
     "execution_count": 175,
     "metadata": {},
     "output_type": "execute_result"
    }
   ],
   "source": [
    "r2_train = []\n",
    "r2_test = []\n",
    "param = []\n",
    "\n",
    "for thisactivation in ['tanh', 'relu']:\n",
    "    for thisalpha in [0.1, 1.0, 2.0, 5.0, 6.0, 7.0, 8.0, 9.0,10]:\n",
    "        mlpreg = MLPRegressor(hidden_layer_sizes = [3],\n",
    "                             activation = thisactivation,\n",
    "                             alpha = thisalpha,\n",
    "                             solver = 'lbfgs',\n",
    "                              max_iter = 20000).fit(X_train_scaled, y_train)\n",
    "        train_score = mlpreg.score(X_train_scaled,y_train)\n",
    "        test_score =  mlpreg.score(X_test_scaled,y_test)\n",
    "        r2_train.append(train_score)\n",
    "        r2_test.append(test_score)\n",
    "        param.append(thisactivation+str(thisalpha))\n",
    "\n",
    "tanh_list_train = r2_train[0:9]\n",
    "tanh_list_test = r2_test[0:9]\n",
    "relu_list_train = r2_train[9:]\n",
    "relu_list_test = r2_test[9:]    \n",
    "\n",
    "df_result = pd.DataFrame({\"train scores (tanh) \":tanh_list_train, \"test score (tanh)\":tanh_list_test,\n",
    "                          \"train scores (relu) \":relu_list_train, \"test score (relu)\":relu_list_test}, \n",
    "                         index = [\"alpha 0.1\",\"alpha 1.0\",\"alpha 2.0\",\"alpha 5.0\",\"alpha 6.0\",\"alpha 7.0\",\"alpha 8.0\",\"alpha 9.0\", \"alpha 10.0\"] )\n",
    "df_result"
   ]
  },
  {
   "cell_type": "code",
   "execution_count": 176,
   "metadata": {},
   "outputs": [
    {
     "data": {
      "text/plain": [
       "<AxesSubplot:>"
      ]
     },
     "execution_count": 176,
     "metadata": {},
     "output_type": "execute_result"
    },
    {
     "data": {
      "image/png": "[encoded data removed]",
      "text/plain": [
       "<Figure size 1008x720 with 2 Axes>"
      ]
     },
     "metadata": {
      "needs_background": "light"
     },
     "output_type": "display_data"
    }
   ],
   "source": [
    "f, ax = plt.subplots(figsize = (14, 10))\n",
    "sns.heatmap(df_result, annot = True, linewidth = 0.5, ax=ax,cmap='coolwarm')"
   ]
  },
  {
   "cell_type": "markdown",
   "metadata": {},
   "source": [
    "# K-Nearest Neighbors --------Regression"
   ]
  },
  {
   "cell_type": "markdown",
   "metadata": {},
   "source": [
    "## Cross validation"
   ]
  },
  {
   "cell_type": "code",
   "execution_count": 178,
   "metadata": {},
   "outputs": [],
   "source": [
    "from sklearn.neighbors import KNeighborsRegressor"
   ]
  },
  {
   "cell_type": "code",
   "execution_count": 184,
   "metadata": {},
   "outputs": [
    {
     "data": {
      "text/plain": [
       "[-0.011549086487884663,\n",
       " 0.10577439614134461,\n",
       " 0.04597264851357623,\n",
       " 0.1601694299607423,\n",
       " 0.17917117259820992,\n",
       " 0.17056726244581893,\n",
       " 0.15654007466961564,\n",
       " 0.1415163802714125,\n",
       " 0.08766787126893572]"
      ]
     },
     "execution_count": 184,
     "metadata": {},
     "output_type": "execute_result"
    }
   ],
   "source": [
    "\n",
    "my_k = [1,2,3, 10,11,12, 15,25,35]\n",
    "cv_scores_mean = []\n",
    "\n",
    "for this_k in my_k:\n",
    "    knnreg = KNeighborsRegressor(n_neighbors = this_k).fit(X_train, y_train)\n",
    "    cv_scores = cross_val_score(knnreg,X_train,y_train,cv=5,scoring =\"r2\")\n",
    "    cv_scores_mean.append(np.mean(cv_scores))\n",
    "\n",
    "#print(\"mean R-squared score\", np.mean(cv_scores))\n",
    "cv_scores_mean"
   ]
  },
  {
   "cell_type": "code",
   "execution_count": 185,
   "metadata": {},
   "outputs": [
    {
     "data": {
      "image/png": "[encoded data removed]",
      "text/plain": [
       "<Figure size 1152x576 with 1 Axes>"
      ]
     },
     "metadata": {
      "needs_background": "light"
     },
     "output_type": "display_data"
    }
   ],
   "source": [
    "%matplotlib inline\n",
    "plt.figure(figsize=(16, 8))\n",
    "plt.plot(my_k, cv_scores_mean, '-o')\n",
    "plt.xlabel(\"n_k\")\n",
    "plt.ylabel(\"Scores\")\n",
    "plt.show()"
   ]
  },
  {
   "cell_type": "markdown",
   "metadata": {},
   "source": [
    "## Using the parameters which have the best performance"
   ]
  },
  {
   "cell_type": "code",
   "execution_count": 187,
   "metadata": {},
   "outputs": [
    {
     "name": "stdout",
     "output_type": "stream",
     "text": [
      "K = 11\n",
      "R-squared train score: 0.373\n",
      "R-squared test score: 0.167\n"
     ]
    }
   ],
   "source": [
    "\n",
    "knnreg = KNeighborsRegressor(n_neighbors = 11).fit(X_train, y_train)\n",
    "score_train = knnreg.score(X_train, y_train)\n",
    "score_test = knnreg.score(X_test, y_test)\n",
    "print('K = ' +str(11))\n",
    "print('R-squared train score: {:.3f}'\n",
    "         .format(score_train))\n",
    "print('R-squared test score: {:.3f}'\n",
    "         .format(score_test))"
   ]
  },
  {
   "cell_type": "code",
   "execution_count": 188,
   "metadata": {},
   "outputs": [],
   "source": [
    "X.to_csv('X_from007.csv')"
   ]
  },
  {
   "cell_type": "code",
   "execution_count": 189,
   "metadata": {},
   "outputs": [],
   "source": [
    "y.to_csv('y_from007.csv')"
   ]
  }
 ],
 "metadata": {
  "environment": {
   "name": "common-cpu.m59",
   "type": "gcloud",
   "uri": "gcr.io/deeplearning-platform-release/base-cpu:m59"
  },
  "kernelspec": {
   "display_name": "Python 3",
   "language": "python",
   "name": "python3"
  },
  "language_info": {
   "codemirror_mode": {
    "name": "ipython",
    "version": 3
   },
   "file_extension": ".py",
   "mimetype": "text/x-python",
   "name": "python",
   "nbconvert_exporter": "python",
   "pygments_lexer": "ipython3",
   "version": "3.7.8"
  }
 },
 "nbformat": 4,
 "nbformat_minor": 4
}
